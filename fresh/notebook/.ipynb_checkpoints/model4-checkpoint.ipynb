{
 "cells": [
  {
   "cell_type": "code",
   "execution_count": 1,
   "metadata": {
    "collapsed": true
   },
   "outputs": [],
   "source": [
    "import pandas as pd\n",
    "import numpy as np"
   ]
  },
  {
   "cell_type": "code",
   "execution_count": 2,
   "metadata": {
    "collapsed": true
   },
   "outputs": [],
   "source": [
    "item_df = pd.read_csv('../data/tianchi_fresh_comp_train_item.csv')\n",
    "user_df = pd.read_csv('../data/tianchi_fresh_comp_train_user.csv')"
   ]
  },
  {
   "cell_type": "code",
   "execution_count": 3,
   "metadata": {},
   "outputs": [
    {
     "data": {
      "text/html": [
       "<div>\n",
       "<style>\n",
       "    .dataframe thead tr:only-child th {\n",
       "        text-align: right;\n",
       "    }\n",
       "\n",
       "    .dataframe thead th {\n",
       "        text-align: left;\n",
       "    }\n",
       "\n",
       "    .dataframe tbody tr th {\n",
       "        vertical-align: top;\n",
       "    }\n",
       "</style>\n",
       "<table border=\"1\" class=\"dataframe\">\n",
       "  <thead>\n",
       "    <tr style=\"text-align: right;\">\n",
       "      <th></th>\n",
       "      <th>item_id</th>\n",
       "      <th>item_geohash</th>\n",
       "      <th>item_category</th>\n",
       "    </tr>\n",
       "  </thead>\n",
       "  <tbody>\n",
       "    <tr>\n",
       "      <th>0</th>\n",
       "      <td>100002303</td>\n",
       "      <td>NaN</td>\n",
       "      <td>3368</td>\n",
       "    </tr>\n",
       "    <tr>\n",
       "      <th>1</th>\n",
       "      <td>100003592</td>\n",
       "      <td>NaN</td>\n",
       "      <td>7995</td>\n",
       "    </tr>\n",
       "    <tr>\n",
       "      <th>2</th>\n",
       "      <td>100006838</td>\n",
       "      <td>NaN</td>\n",
       "      <td>12630</td>\n",
       "    </tr>\n",
       "    <tr>\n",
       "      <th>3</th>\n",
       "      <td>100008089</td>\n",
       "      <td>NaN</td>\n",
       "      <td>7791</td>\n",
       "    </tr>\n",
       "    <tr>\n",
       "      <th>4</th>\n",
       "      <td>100012750</td>\n",
       "      <td>NaN</td>\n",
       "      <td>9614</td>\n",
       "    </tr>\n",
       "  </tbody>\n",
       "</table>\n",
       "</div>"
      ],
      "text/plain": [
       "     item_id item_geohash  item_category\n",
       "0  100002303          NaN           3368\n",
       "1  100003592          NaN           7995\n",
       "2  100006838          NaN          12630\n",
       "3  100008089          NaN           7791\n",
       "4  100012750          NaN           9614"
      ]
     },
     "execution_count": 3,
     "metadata": {},
     "output_type": "execute_result"
    }
   ],
   "source": [
    "item_df.head()"
   ]
  },
  {
   "cell_type": "code",
   "execution_count": 4,
   "metadata": {},
   "outputs": [
    {
     "data": {
      "text/html": [
       "<div>\n",
       "<style>\n",
       "    .dataframe thead tr:only-child th {\n",
       "        text-align: right;\n",
       "    }\n",
       "\n",
       "    .dataframe thead th {\n",
       "        text-align: left;\n",
       "    }\n",
       "\n",
       "    .dataframe tbody tr th {\n",
       "        vertical-align: top;\n",
       "    }\n",
       "</style>\n",
       "<table border=\"1\" class=\"dataframe\">\n",
       "  <thead>\n",
       "    <tr style=\"text-align: right;\">\n",
       "      <th></th>\n",
       "      <th>user_id</th>\n",
       "      <th>item_id</th>\n",
       "      <th>behavior_type</th>\n",
       "      <th>user_geohash</th>\n",
       "      <th>item_category</th>\n",
       "      <th>time</th>\n",
       "    </tr>\n",
       "  </thead>\n",
       "  <tbody>\n",
       "    <tr>\n",
       "      <th>0</th>\n",
       "      <td>10001082</td>\n",
       "      <td>285259775</td>\n",
       "      <td>1</td>\n",
       "      <td>97lk14c</td>\n",
       "      <td>4076</td>\n",
       "      <td>2014-12-08 18</td>\n",
       "    </tr>\n",
       "    <tr>\n",
       "      <th>1</th>\n",
       "      <td>10001082</td>\n",
       "      <td>4368907</td>\n",
       "      <td>1</td>\n",
       "      <td>NaN</td>\n",
       "      <td>5503</td>\n",
       "      <td>2014-12-12 12</td>\n",
       "    </tr>\n",
       "    <tr>\n",
       "      <th>2</th>\n",
       "      <td>10001082</td>\n",
       "      <td>4368907</td>\n",
       "      <td>1</td>\n",
       "      <td>NaN</td>\n",
       "      <td>5503</td>\n",
       "      <td>2014-12-12 12</td>\n",
       "    </tr>\n",
       "    <tr>\n",
       "      <th>3</th>\n",
       "      <td>10001082</td>\n",
       "      <td>53616768</td>\n",
       "      <td>1</td>\n",
       "      <td>NaN</td>\n",
       "      <td>9762</td>\n",
       "      <td>2014-12-02 15</td>\n",
       "    </tr>\n",
       "    <tr>\n",
       "      <th>4</th>\n",
       "      <td>10001082</td>\n",
       "      <td>151466952</td>\n",
       "      <td>1</td>\n",
       "      <td>NaN</td>\n",
       "      <td>5232</td>\n",
       "      <td>2014-12-12 11</td>\n",
       "    </tr>\n",
       "  </tbody>\n",
       "</table>\n",
       "</div>"
      ],
      "text/plain": [
       "    user_id    item_id  behavior_type user_geohash  item_category  \\\n",
       "0  10001082  285259775              1      97lk14c           4076   \n",
       "1  10001082    4368907              1          NaN           5503   \n",
       "2  10001082    4368907              1          NaN           5503   \n",
       "3  10001082   53616768              1          NaN           9762   \n",
       "4  10001082  151466952              1          NaN           5232   \n",
       "\n",
       "            time  \n",
       "0  2014-12-08 18  \n",
       "1  2014-12-12 12  \n",
       "2  2014-12-12 12  \n",
       "3  2014-12-02 15  \n",
       "4  2014-12-12 11  "
      ]
     },
     "execution_count": 4,
     "metadata": {},
     "output_type": "execute_result"
    }
   ],
   "source": [
    "user_df.head()"
   ]
  },
  {
   "cell_type": "code",
   "execution_count": 5,
   "metadata": {},
   "outputs": [
    {
     "data": {
      "text/plain": [
       "user_id          23291027\n",
       "item_id          23291027\n",
       "behavior_type    23291027\n",
       "user_geohash      7380017\n",
       "item_category    23291027\n",
       "time             23291027\n",
       "dtype: int64"
      ]
     },
     "execution_count": 5,
     "metadata": {},
     "output_type": "execute_result"
    }
   ],
   "source": [
    "user_df.count()"
   ]
  },
  {
   "cell_type": "code",
   "execution_count": 6,
   "metadata": {},
   "outputs": [
    {
     "data": {
      "text/plain": [
       "True     15911010\n",
       "False     7380017\n",
       "Name: user_geohash, dtype: int64"
      ]
     },
     "execution_count": 6,
     "metadata": {},
     "output_type": "execute_result"
    }
   ],
   "source": [
    "user_df['user_geohash'].isnull().value_counts()"
   ]
  },
  {
   "cell_type": "code",
   "execution_count": 7,
   "metadata": {},
   "outputs": [
    {
     "data": {
      "text/html": [
       "<div>\n",
       "<style>\n",
       "    .dataframe thead tr:only-child th {\n",
       "        text-align: right;\n",
       "    }\n",
       "\n",
       "    .dataframe thead th {\n",
       "        text-align: left;\n",
       "    }\n",
       "\n",
       "    .dataframe tbody tr th {\n",
       "        vertical-align: top;\n",
       "    }\n",
       "</style>\n",
       "<table border=\"1\" class=\"dataframe\">\n",
       "  <thead>\n",
       "    <tr style=\"text-align: right;\">\n",
       "      <th></th>\n",
       "      <th>user_id</th>\n",
       "      <th>item_id</th>\n",
       "      <th>behavior_type</th>\n",
       "      <th>item_category</th>\n",
       "      <th>time</th>\n",
       "    </tr>\n",
       "  </thead>\n",
       "  <tbody>\n",
       "    <tr>\n",
       "      <th>0</th>\n",
       "      <td>10001082</td>\n",
       "      <td>285259775</td>\n",
       "      <td>1</td>\n",
       "      <td>4076</td>\n",
       "      <td>2014-12-08 18</td>\n",
       "    </tr>\n",
       "    <tr>\n",
       "      <th>1</th>\n",
       "      <td>10001082</td>\n",
       "      <td>4368907</td>\n",
       "      <td>1</td>\n",
       "      <td>5503</td>\n",
       "      <td>2014-12-12 12</td>\n",
       "    </tr>\n",
       "    <tr>\n",
       "      <th>2</th>\n",
       "      <td>10001082</td>\n",
       "      <td>4368907</td>\n",
       "      <td>1</td>\n",
       "      <td>5503</td>\n",
       "      <td>2014-12-12 12</td>\n",
       "    </tr>\n",
       "    <tr>\n",
       "      <th>3</th>\n",
       "      <td>10001082</td>\n",
       "      <td>53616768</td>\n",
       "      <td>1</td>\n",
       "      <td>9762</td>\n",
       "      <td>2014-12-02 15</td>\n",
       "    </tr>\n",
       "    <tr>\n",
       "      <th>4</th>\n",
       "      <td>10001082</td>\n",
       "      <td>151466952</td>\n",
       "      <td>1</td>\n",
       "      <td>5232</td>\n",
       "      <td>2014-12-12 11</td>\n",
       "    </tr>\n",
       "  </tbody>\n",
       "</table>\n",
       "</div>"
      ],
      "text/plain": [
       "    user_id    item_id  behavior_type  item_category           time\n",
       "0  10001082  285259775              1           4076  2014-12-08 18\n",
       "1  10001082    4368907              1           5503  2014-12-12 12\n",
       "2  10001082    4368907              1           5503  2014-12-12 12\n",
       "3  10001082   53616768              1           9762  2014-12-02 15\n",
       "4  10001082  151466952              1           5232  2014-12-12 11"
      ]
     },
     "execution_count": 7,
     "metadata": {},
     "output_type": "execute_result"
    }
   ],
   "source": [
    "user_df = user_df.drop('user_geohash', axis=1)\n",
    "user_df.head()"
   ]
  },
  {
   "cell_type": "code",
   "execution_count": 8,
   "metadata": {
    "scrolled": true
   },
   "outputs": [
    {
     "data": {
      "text/html": [
       "<div>\n",
       "<style>\n",
       "    .dataframe thead tr:only-child th {\n",
       "        text-align: right;\n",
       "    }\n",
       "\n",
       "    .dataframe thead th {\n",
       "        text-align: left;\n",
       "    }\n",
       "\n",
       "    .dataframe tbody tr th {\n",
       "        vertical-align: top;\n",
       "    }\n",
       "</style>\n",
       "<table border=\"1\" class=\"dataframe\">\n",
       "  <thead>\n",
       "    <tr style=\"text-align: right;\">\n",
       "      <th></th>\n",
       "      <th>user_id</th>\n",
       "      <th>item_id</th>\n",
       "      <th>behavior_type</th>\n",
       "      <th>item_category</th>\n",
       "      <th>time</th>\n",
       "      <th>time_day</th>\n",
       "    </tr>\n",
       "  </thead>\n",
       "  <tbody>\n",
       "    <tr>\n",
       "      <th>0</th>\n",
       "      <td>10001082</td>\n",
       "      <td>285259775</td>\n",
       "      <td>1</td>\n",
       "      <td>4076</td>\n",
       "      <td>2014-12-08 18</td>\n",
       "      <td>2014-12-08</td>\n",
       "    </tr>\n",
       "    <tr>\n",
       "      <th>1</th>\n",
       "      <td>10001082</td>\n",
       "      <td>4368907</td>\n",
       "      <td>1</td>\n",
       "      <td>5503</td>\n",
       "      <td>2014-12-12 12</td>\n",
       "      <td>2014-12-12</td>\n",
       "    </tr>\n",
       "    <tr>\n",
       "      <th>2</th>\n",
       "      <td>10001082</td>\n",
       "      <td>4368907</td>\n",
       "      <td>1</td>\n",
       "      <td>5503</td>\n",
       "      <td>2014-12-12 12</td>\n",
       "      <td>2014-12-12</td>\n",
       "    </tr>\n",
       "    <tr>\n",
       "      <th>3</th>\n",
       "      <td>10001082</td>\n",
       "      <td>53616768</td>\n",
       "      <td>1</td>\n",
       "      <td>9762</td>\n",
       "      <td>2014-12-02 15</td>\n",
       "      <td>2014-12-02</td>\n",
       "    </tr>\n",
       "    <tr>\n",
       "      <th>4</th>\n",
       "      <td>10001082</td>\n",
       "      <td>151466952</td>\n",
       "      <td>1</td>\n",
       "      <td>5232</td>\n",
       "      <td>2014-12-12 11</td>\n",
       "      <td>2014-12-12</td>\n",
       "    </tr>\n",
       "  </tbody>\n",
       "</table>\n",
       "</div>"
      ],
      "text/plain": [
       "    user_id    item_id  behavior_type  item_category           time  \\\n",
       "0  10001082  285259775              1           4076  2014-12-08 18   \n",
       "1  10001082    4368907              1           5503  2014-12-12 12   \n",
       "2  10001082    4368907              1           5503  2014-12-12 12   \n",
       "3  10001082   53616768              1           9762  2014-12-02 15   \n",
       "4  10001082  151466952              1           5232  2014-12-12 11   \n",
       "\n",
       "     time_day  \n",
       "0  2014-12-08  \n",
       "1  2014-12-12  \n",
       "2  2014-12-12  \n",
       "3  2014-12-02  \n",
       "4  2014-12-12  "
      ]
     },
     "execution_count": 8,
     "metadata": {},
     "output_type": "execute_result"
    }
   ],
   "source": [
    "user_df['time_day'] = user_df['time'].apply(lambda x: x.split(' ')[0])\n",
    "user_df.head()"
   ]
  },
  {
   "cell_type": "code",
   "execution_count": 9,
   "metadata": {
    "collapsed": true
   },
   "outputs": [],
   "source": [
    "user_df = user_df.drop('time', axis=1)"
   ]
  },
  {
   "cell_type": "code",
   "execution_count": 10,
   "metadata": {},
   "outputs": [
    {
     "data": {
      "text/plain": [
       "dtype('O')"
      ]
     },
     "execution_count": 10,
     "metadata": {},
     "output_type": "execute_result"
    }
   ],
   "source": [
    "user_df['time_day'].dtype"
   ]
  },
  {
   "cell_type": "code",
   "execution_count": 11,
   "metadata": {
    "collapsed": true
   },
   "outputs": [],
   "source": [
    "# 将time-day转化成datetime类型\n",
    "import datetime"
   ]
  },
  {
   "cell_type": "code",
   "execution_count": 12,
   "metadata": {},
   "outputs": [
    {
     "data": {
      "text/html": [
       "<div>\n",
       "<style>\n",
       "    .dataframe thead tr:only-child th {\n",
       "        text-align: right;\n",
       "    }\n",
       "\n",
       "    .dataframe thead th {\n",
       "        text-align: left;\n",
       "    }\n",
       "\n",
       "    .dataframe tbody tr th {\n",
       "        vertical-align: top;\n",
       "    }\n",
       "</style>\n",
       "<table border=\"1\" class=\"dataframe\">\n",
       "  <thead>\n",
       "    <tr style=\"text-align: right;\">\n",
       "      <th></th>\n",
       "      <th>user_id</th>\n",
       "      <th>item_id</th>\n",
       "      <th>behavior_type</th>\n",
       "      <th>item_category</th>\n",
       "      <th>time_day</th>\n",
       "    </tr>\n",
       "  </thead>\n",
       "  <tbody>\n",
       "    <tr>\n",
       "      <th>0</th>\n",
       "      <td>10001082</td>\n",
       "      <td>285259775</td>\n",
       "      <td>1</td>\n",
       "      <td>4076</td>\n",
       "      <td>2014-12-08</td>\n",
       "    </tr>\n",
       "    <tr>\n",
       "      <th>1</th>\n",
       "      <td>10001082</td>\n",
       "      <td>4368907</td>\n",
       "      <td>1</td>\n",
       "      <td>5503</td>\n",
       "      <td>2014-12-12</td>\n",
       "    </tr>\n",
       "    <tr>\n",
       "      <th>2</th>\n",
       "      <td>10001082</td>\n",
       "      <td>4368907</td>\n",
       "      <td>1</td>\n",
       "      <td>5503</td>\n",
       "      <td>2014-12-12</td>\n",
       "    </tr>\n",
       "    <tr>\n",
       "      <th>3</th>\n",
       "      <td>10001082</td>\n",
       "      <td>53616768</td>\n",
       "      <td>1</td>\n",
       "      <td>9762</td>\n",
       "      <td>2014-12-02</td>\n",
       "    </tr>\n",
       "    <tr>\n",
       "      <th>4</th>\n",
       "      <td>10001082</td>\n",
       "      <td>151466952</td>\n",
       "      <td>1</td>\n",
       "      <td>5232</td>\n",
       "      <td>2014-12-12</td>\n",
       "    </tr>\n",
       "  </tbody>\n",
       "</table>\n",
       "</div>"
      ],
      "text/plain": [
       "    user_id    item_id  behavior_type  item_category   time_day\n",
       "0  10001082  285259775              1           4076 2014-12-08\n",
       "1  10001082    4368907              1           5503 2014-12-12\n",
       "2  10001082    4368907              1           5503 2014-12-12\n",
       "3  10001082   53616768              1           9762 2014-12-02\n",
       "4  10001082  151466952              1           5232 2014-12-12"
      ]
     },
     "execution_count": 12,
     "metadata": {},
     "output_type": "execute_result"
    }
   ],
   "source": [
    "user_df['time_day'] = user_df.time_day.apply(lambda x: datetime.datetime.strptime(x, '%Y-%m-%d'))\n",
    "user_df.head()"
   ]
  },
  {
   "cell_type": "code",
   "execution_count": 14,
   "metadata": {},
   "outputs": [
    {
     "data": {
      "text/plain": [
       "dtype('<M8[ns]')"
      ]
     },
     "execution_count": 14,
     "metadata": {},
     "output_type": "execute_result"
    }
   ],
   "source": [
    "user_df['time_day'].dtype"
   ]
  },
  {
   "cell_type": "code",
   "execution_count": 13,
   "metadata": {
    "collapsed": true
   },
   "outputs": [],
   "source": [
    "user_df['behavior_type'] = user_df['behavior_type'].astype('str')"
   ]
  },
  {
   "cell_type": "code",
   "execution_count": 15,
   "metadata": {
    "collapsed": true
   },
   "outputs": [],
   "source": [
    "behavior_type = pd.get_dummies(user_df['behavior_type'], prefix='behavior_type')"
   ]
  },
  {
   "cell_type": "code",
   "execution_count": 16,
   "metadata": {},
   "outputs": [
    {
     "data": {
      "text/html": [
       "<div>\n",
       "<style>\n",
       "    .dataframe thead tr:only-child th {\n",
       "        text-align: right;\n",
       "    }\n",
       "\n",
       "    .dataframe thead th {\n",
       "        text-align: left;\n",
       "    }\n",
       "\n",
       "    .dataframe tbody tr th {\n",
       "        vertical-align: top;\n",
       "    }\n",
       "</style>\n",
       "<table border=\"1\" class=\"dataframe\">\n",
       "  <thead>\n",
       "    <tr style=\"text-align: right;\">\n",
       "      <th></th>\n",
       "      <th>time_day</th>\n",
       "      <th>user_id</th>\n",
       "      <th>item_id</th>\n",
       "      <th>behavior_type_1</th>\n",
       "      <th>behavior_type_2</th>\n",
       "      <th>behavior_type_3</th>\n",
       "      <th>behavior_type_4</th>\n",
       "    </tr>\n",
       "  </thead>\n",
       "  <tbody>\n",
       "    <tr>\n",
       "      <th>0</th>\n",
       "      <td>2014-12-08</td>\n",
       "      <td>10001082</td>\n",
       "      <td>285259775</td>\n",
       "      <td>1</td>\n",
       "      <td>0</td>\n",
       "      <td>0</td>\n",
       "      <td>0</td>\n",
       "    </tr>\n",
       "    <tr>\n",
       "      <th>1</th>\n",
       "      <td>2014-12-12</td>\n",
       "      <td>10001082</td>\n",
       "      <td>4368907</td>\n",
       "      <td>1</td>\n",
       "      <td>0</td>\n",
       "      <td>0</td>\n",
       "      <td>0</td>\n",
       "    </tr>\n",
       "    <tr>\n",
       "      <th>2</th>\n",
       "      <td>2014-12-12</td>\n",
       "      <td>10001082</td>\n",
       "      <td>4368907</td>\n",
       "      <td>1</td>\n",
       "      <td>0</td>\n",
       "      <td>0</td>\n",
       "      <td>0</td>\n",
       "    </tr>\n",
       "    <tr>\n",
       "      <th>3</th>\n",
       "      <td>2014-12-02</td>\n",
       "      <td>10001082</td>\n",
       "      <td>53616768</td>\n",
       "      <td>1</td>\n",
       "      <td>0</td>\n",
       "      <td>0</td>\n",
       "      <td>0</td>\n",
       "    </tr>\n",
       "    <tr>\n",
       "      <th>4</th>\n",
       "      <td>2014-12-12</td>\n",
       "      <td>10001082</td>\n",
       "      <td>151466952</td>\n",
       "      <td>1</td>\n",
       "      <td>0</td>\n",
       "      <td>0</td>\n",
       "      <td>0</td>\n",
       "    </tr>\n",
       "  </tbody>\n",
       "</table>\n",
       "</div>"
      ],
      "text/plain": [
       "    time_day   user_id    item_id  behavior_type_1  behavior_type_2  \\\n",
       "0 2014-12-08  10001082  285259775                1                0   \n",
       "1 2014-12-12  10001082    4368907                1                0   \n",
       "2 2014-12-12  10001082    4368907                1                0   \n",
       "3 2014-12-02  10001082   53616768                1                0   \n",
       "4 2014-12-12  10001082  151466952                1                0   \n",
       "\n",
       "   behavior_type_3  behavior_type_4  \n",
       "0                0                0  \n",
       "1                0                0  \n",
       "2                0                0  \n",
       "3                0                0  \n",
       "4                0                0  "
      ]
     },
     "execution_count": 16,
     "metadata": {},
     "output_type": "execute_result"
    }
   ],
   "source": [
    "user_df = pd.concat([user_df[['time_day', 'user_id', 'item_id']], behavior_type], axis=1)\n",
    "user_df.head()"
   ]
  },
  {
   "cell_type": "code",
   "execution_count": 17,
   "metadata": {},
   "outputs": [
    {
     "data": {
      "text/html": [
       "<div>\n",
       "<style>\n",
       "    .dataframe thead tr:only-child th {\n",
       "        text-align: right;\n",
       "    }\n",
       "\n",
       "    .dataframe thead th {\n",
       "        text-align: left;\n",
       "    }\n",
       "\n",
       "    .dataframe tbody tr th {\n",
       "        vertical-align: top;\n",
       "    }\n",
       "</style>\n",
       "<table border=\"1\" class=\"dataframe\">\n",
       "  <thead>\n",
       "    <tr style=\"text-align: right;\">\n",
       "      <th></th>\n",
       "      <th>time_day</th>\n",
       "      <th>user_id</th>\n",
       "      <th>item_id</th>\n",
       "      <th>behavior_type_1</th>\n",
       "      <th>behavior_type_2</th>\n",
       "      <th>behavior_type_3</th>\n",
       "      <th>behavior_type_4</th>\n",
       "    </tr>\n",
       "  </thead>\n",
       "  <tbody>\n",
       "    <tr>\n",
       "      <th>0</th>\n",
       "      <td>2014-11-18</td>\n",
       "      <td>492</td>\n",
       "      <td>59758671</td>\n",
       "      <td>2</td>\n",
       "      <td>0</td>\n",
       "      <td>0</td>\n",
       "      <td>0</td>\n",
       "    </tr>\n",
       "    <tr>\n",
       "      <th>1</th>\n",
       "      <td>2014-11-18</td>\n",
       "      <td>492</td>\n",
       "      <td>76093985</td>\n",
       "      <td>1</td>\n",
       "      <td>0</td>\n",
       "      <td>0</td>\n",
       "      <td>0</td>\n",
       "    </tr>\n",
       "    <tr>\n",
       "      <th>2</th>\n",
       "      <td>2014-11-18</td>\n",
       "      <td>492</td>\n",
       "      <td>110036513</td>\n",
       "      <td>2</td>\n",
       "      <td>0</td>\n",
       "      <td>0</td>\n",
       "      <td>0</td>\n",
       "    </tr>\n",
       "    <tr>\n",
       "      <th>3</th>\n",
       "      <td>2014-11-18</td>\n",
       "      <td>492</td>\n",
       "      <td>176404510</td>\n",
       "      <td>1</td>\n",
       "      <td>0</td>\n",
       "      <td>0</td>\n",
       "      <td>0</td>\n",
       "    </tr>\n",
       "    <tr>\n",
       "      <th>4</th>\n",
       "      <td>2014-11-18</td>\n",
       "      <td>492</td>\n",
       "      <td>178412255</td>\n",
       "      <td>2</td>\n",
       "      <td>0</td>\n",
       "      <td>0</td>\n",
       "      <td>0</td>\n",
       "    </tr>\n",
       "  </tbody>\n",
       "</table>\n",
       "</div>"
      ],
      "text/plain": [
       "    time_day  user_id    item_id  behavior_type_1  behavior_type_2  \\\n",
       "0 2014-11-18      492   59758671                2                0   \n",
       "1 2014-11-18      492   76093985                1                0   \n",
       "2 2014-11-18      492  110036513                2                0   \n",
       "3 2014-11-18      492  176404510                1                0   \n",
       "4 2014-11-18      492  178412255                2                0   \n",
       "\n",
       "   behavior_type_3  behavior_type_4  \n",
       "0                0                0  \n",
       "1                0                0  \n",
       "2                0                0  \n",
       "3                0                0  \n",
       "4                0                0  "
      ]
     },
     "execution_count": 17,
     "metadata": {},
     "output_type": "execute_result"
    }
   ],
   "source": [
    "user_df = user_df.groupby(['time_day', 'user_id', 'item_id']).agg('sum').reset_index()\n",
    "user_df.head()"
   ]
  },
  {
   "cell_type": "code",
   "execution_count": 18,
   "metadata": {},
   "outputs": [
    {
     "data": {
      "text/html": [
       "<div>\n",
       "<style>\n",
       "    .dataframe thead tr:only-child th {\n",
       "        text-align: right;\n",
       "    }\n",
       "\n",
       "    .dataframe thead th {\n",
       "        text-align: left;\n",
       "    }\n",
       "\n",
       "    .dataframe tbody tr th {\n",
       "        vertical-align: top;\n",
       "    }\n",
       "</style>\n",
       "<table border=\"1\" class=\"dataframe\">\n",
       "  <thead>\n",
       "    <tr style=\"text-align: right;\">\n",
       "      <th></th>\n",
       "      <th>time_day</th>\n",
       "      <th>user_id</th>\n",
       "      <th>item_id</th>\n",
       "      <th>behavior_type_1</th>\n",
       "      <th>behavior_type_2</th>\n",
       "      <th>behavior_type_3</th>\n",
       "      <th>behavior_type_4</th>\n",
       "    </tr>\n",
       "  </thead>\n",
       "  <tbody>\n",
       "    <tr>\n",
       "      <th>9393177</th>\n",
       "      <td>2014-12-16</td>\n",
       "      <td>142439559</td>\n",
       "      <td>202309732</td>\n",
       "      <td>1</td>\n",
       "      <td>0</td>\n",
       "      <td>0</td>\n",
       "      <td>0</td>\n",
       "    </tr>\n",
       "    <tr>\n",
       "      <th>9393178</th>\n",
       "      <td>2014-12-16</td>\n",
       "      <td>142439559</td>\n",
       "      <td>233515893</td>\n",
       "      <td>2</td>\n",
       "      <td>0</td>\n",
       "      <td>0</td>\n",
       "      <td>0</td>\n",
       "    </tr>\n",
       "    <tr>\n",
       "      <th>9393179</th>\n",
       "      <td>2014-12-16</td>\n",
       "      <td>142439559</td>\n",
       "      <td>317267203</td>\n",
       "      <td>2</td>\n",
       "      <td>0</td>\n",
       "      <td>0</td>\n",
       "      <td>0</td>\n",
       "    </tr>\n",
       "    <tr>\n",
       "      <th>9393180</th>\n",
       "      <td>2014-12-16</td>\n",
       "      <td>142439559</td>\n",
       "      <td>330752876</td>\n",
       "      <td>1</td>\n",
       "      <td>0</td>\n",
       "      <td>0</td>\n",
       "      <td>0</td>\n",
       "    </tr>\n",
       "    <tr>\n",
       "      <th>9393181</th>\n",
       "      <td>2014-12-16</td>\n",
       "      <td>142439559</td>\n",
       "      <td>390001730</td>\n",
       "      <td>2</td>\n",
       "      <td>0</td>\n",
       "      <td>0</td>\n",
       "      <td>0</td>\n",
       "    </tr>\n",
       "  </tbody>\n",
       "</table>\n",
       "</div>"
      ],
      "text/plain": [
       "          time_day    user_id    item_id  behavior_type_1  behavior_type_2  \\\n",
       "9393177 2014-12-16  142439559  202309732                1                0   \n",
       "9393178 2014-12-16  142439559  233515893                2                0   \n",
       "9393179 2014-12-16  142439559  317267203                2                0   \n",
       "9393180 2014-12-16  142439559  330752876                1                0   \n",
       "9393181 2014-12-16  142439559  390001730                2                0   \n",
       "\n",
       "         behavior_type_3  behavior_type_4  \n",
       "9393177                0                0  \n",
       "9393178                0                0  \n",
       "9393179                0                0  \n",
       "9393180                0                0  \n",
       "9393181                0                0  "
      ]
     },
     "execution_count": 18,
     "metadata": {},
     "output_type": "execute_result"
    }
   ],
   "source": [
    "train_features = user_df[user_df['time_day']<='2014-12-16']\n",
    "train_features.tail()"
   ]
  },
  {
   "cell_type": "code",
   "execution_count": 19,
   "metadata": {
    "collapsed": true
   },
   "outputs": [],
   "source": [
    "train_label = user_df[user_df['time_day']=='2014-12-17'][['user_id', 'item_id', 'behavior_type_4']]"
   ]
  },
  {
   "cell_type": "code",
   "execution_count": 20,
   "metadata": {},
   "outputs": [
    {
     "data": {
      "text/html": [
       "<div>\n",
       "<style>\n",
       "    .dataframe thead tr:only-child th {\n",
       "        text-align: right;\n",
       "    }\n",
       "\n",
       "    .dataframe thead th {\n",
       "        text-align: left;\n",
       "    }\n",
       "\n",
       "    .dataframe tbody tr th {\n",
       "        vertical-align: top;\n",
       "    }\n",
       "</style>\n",
       "<table border=\"1\" class=\"dataframe\">\n",
       "  <thead>\n",
       "    <tr style=\"text-align: right;\">\n",
       "      <th></th>\n",
       "      <th>time_day</th>\n",
       "      <th>user_id</th>\n",
       "      <th>item_id</th>\n",
       "      <th>behavior_type_1</th>\n",
       "      <th>behavior_type_2</th>\n",
       "      <th>behavior_type_3</th>\n",
       "      <th>behavior_type_4_x</th>\n",
       "      <th>behavior_type_4_y</th>\n",
       "    </tr>\n",
       "  </thead>\n",
       "  <tbody>\n",
       "    <tr>\n",
       "      <th>0</th>\n",
       "      <td>2014-11-18</td>\n",
       "      <td>45561</td>\n",
       "      <td>10285473</td>\n",
       "      <td>2.0</td>\n",
       "      <td>0.0</td>\n",
       "      <td>0.0</td>\n",
       "      <td>0.0</td>\n",
       "      <td>0</td>\n",
       "    </tr>\n",
       "    <tr>\n",
       "      <th>1</th>\n",
       "      <td>2014-11-28</td>\n",
       "      <td>45561</td>\n",
       "      <td>10285473</td>\n",
       "      <td>3.0</td>\n",
       "      <td>0.0</td>\n",
       "      <td>0.0</td>\n",
       "      <td>0.0</td>\n",
       "      <td>0</td>\n",
       "    </tr>\n",
       "    <tr>\n",
       "      <th>2</th>\n",
       "      <td>2014-12-09</td>\n",
       "      <td>45561</td>\n",
       "      <td>10285473</td>\n",
       "      <td>3.0</td>\n",
       "      <td>0.0</td>\n",
       "      <td>0.0</td>\n",
       "      <td>0.0</td>\n",
       "      <td>0</td>\n",
       "    </tr>\n",
       "    <tr>\n",
       "      <th>3</th>\n",
       "      <td>2014-12-11</td>\n",
       "      <td>45561</td>\n",
       "      <td>10285473</td>\n",
       "      <td>2.0</td>\n",
       "      <td>0.0</td>\n",
       "      <td>0.0</td>\n",
       "      <td>0.0</td>\n",
       "      <td>0</td>\n",
       "    </tr>\n",
       "    <tr>\n",
       "      <th>4</th>\n",
       "      <td>2014-11-18</td>\n",
       "      <td>45561</td>\n",
       "      <td>118925674</td>\n",
       "      <td>2.0</td>\n",
       "      <td>0.0</td>\n",
       "      <td>0.0</td>\n",
       "      <td>0.0</td>\n",
       "      <td>0</td>\n",
       "    </tr>\n",
       "  </tbody>\n",
       "</table>\n",
       "</div>"
      ],
      "text/plain": [
       "    time_day  user_id    item_id  behavior_type_1  behavior_type_2  \\\n",
       "0 2014-11-18    45561   10285473              2.0              0.0   \n",
       "1 2014-11-28    45561   10285473              3.0              0.0   \n",
       "2 2014-12-09    45561   10285473              3.0              0.0   \n",
       "3 2014-12-11    45561   10285473              2.0              0.0   \n",
       "4 2014-11-18    45561  118925674              2.0              0.0   \n",
       "\n",
       "   behavior_type_3  behavior_type_4_x  behavior_type_4_y  \n",
       "0              0.0                0.0                  0  \n",
       "1              0.0                0.0                  0  \n",
       "2              0.0                0.0                  0  \n",
       "3              0.0                0.0                  0  \n",
       "4              0.0                0.0                  0  "
      ]
     },
     "execution_count": 20,
     "metadata": {},
     "output_type": "execute_result"
    }
   ],
   "source": [
    "train_data = pd.merge(train_features, train_label, on=['user_id', 'item_id'], how='right').fillna(0)\n",
    "train_data.head()"
   ]
  },
  {
   "cell_type": "code",
   "execution_count": 21,
   "metadata": {},
   "outputs": [
    {
     "name": "stdout",
     "output_type": "stream",
     "text": [
      "<class 'pandas.core.frame.DataFrame'>\n",
      "Int64Index: 357559 entries, 0 to 357558\n",
      "Data columns (total 8 columns):\n",
      "time_day             357559 non-null datetime64[ns]\n",
      "user_id              357559 non-null int64\n",
      "item_id              357559 non-null int64\n",
      "behavior_type_1      357559 non-null float64\n",
      "behavior_type_2      357559 non-null float64\n",
      "behavior_type_3      357559 non-null float64\n",
      "behavior_type_4_x    357559 non-null float64\n",
      "behavior_type_4_y    357559 non-null uint8\n",
      "dtypes: datetime64[ns](1), float64(4), int64(2), uint8(1)\n",
      "memory usage: 22.2 MB\n"
     ]
    }
   ],
   "source": [
    "train_data.info()"
   ]
  },
  {
   "cell_type": "code",
   "execution_count": 22,
   "metadata": {},
   "outputs": [
    {
     "data": {
      "text/plain": [
       "0    349822\n",
       "1      7737\n",
       "Name: label, dtype: int64"
      ]
     },
     "execution_count": 22,
     "metadata": {},
     "output_type": "execute_result"
    }
   ],
   "source": [
    "train_data['label'] = train_data.behavior_type_4_y.apply(lambda x: 1 if x>0 else 0)\n",
    "train_data['label'].value_counts()"
   ]
  },
  {
   "cell_type": "code",
   "execution_count": 23,
   "metadata": {},
   "outputs": [
    {
     "name": "stdout",
     "output_type": "stream",
     "text": [
      "<class 'pandas.core.frame.DataFrame'>\n",
      "Int64Index: 316132 entries, 9393182 to 9709313\n",
      "Data columns (total 3 columns):\n",
      "user_id            316132 non-null int64\n",
      "item_id            316132 non-null int64\n",
      "behavior_type_4    316132 non-null uint8\n",
      "dtypes: int64(2), uint8(1)\n",
      "memory usage: 7.5 MB\n"
     ]
    }
   ],
   "source": [
    "train_label.info()"
   ]
  },
  {
   "cell_type": "code",
   "execution_count": 24,
   "metadata": {},
   "outputs": [
    {
     "name": "stdout",
     "output_type": "stream",
     "text": [
      "<class 'pandas.core.frame.DataFrame'>\n",
      "Int64Index: 6169 entries, 9393266 to 9709308\n",
      "Data columns (total 3 columns):\n",
      "user_id            6169 non-null int64\n",
      "item_id            6169 non-null int64\n",
      "behavior_type_4    6169 non-null uint8\n",
      "dtypes: int64(2), uint8(1)\n",
      "memory usage: 150.6 KB\n"
     ]
    }
   ],
   "source": [
    "train_label[train_label['behavior_type_4']>0].info()"
   ]
  },
  {
   "cell_type": "code",
   "execution_count": 25,
   "metadata": {},
   "outputs": [
    {
     "name": "stdout",
     "output_type": "stream",
     "text": [
      "<class 'pandas.core.frame.DataFrame'>\n",
      "Int64Index: 309963 entries, 9393182 to 9709313\n",
      "Data columns (total 3 columns):\n",
      "user_id            309963 non-null int64\n",
      "item_id            309963 non-null int64\n",
      "behavior_type_4    309963 non-null uint8\n",
      "dtypes: int64(2), uint8(1)\n",
      "memory usage: 7.4 MB\n"
     ]
    }
   ],
   "source": [
    "train_label[train_label['behavior_type_4']==0].info()"
   ]
  },
  {
   "cell_type": "code",
   "execution_count": 26,
   "metadata": {},
   "outputs": [
    {
     "data": {
      "text/html": [
       "<div>\n",
       "<style>\n",
       "    .dataframe thead tr:only-child th {\n",
       "        text-align: right;\n",
       "    }\n",
       "\n",
       "    .dataframe thead th {\n",
       "        text-align: left;\n",
       "    }\n",
       "\n",
       "    .dataframe tbody tr th {\n",
       "        vertical-align: top;\n",
       "    }\n",
       "</style>\n",
       "<table border=\"1\" class=\"dataframe\">\n",
       "  <thead>\n",
       "    <tr style=\"text-align: right;\">\n",
       "      <th></th>\n",
       "      <th>time_day</th>\n",
       "      <th>user_id</th>\n",
       "      <th>item_id</th>\n",
       "      <th>behavior_type_1</th>\n",
       "      <th>behavior_type_2</th>\n",
       "      <th>behavior_type_3</th>\n",
       "      <th>behavior_type_4_x</th>\n",
       "      <th>behavior_type_4_y</th>\n",
       "      <th>label</th>\n",
       "    </tr>\n",
       "  </thead>\n",
       "  <tbody>\n",
       "    <tr>\n",
       "      <th>0</th>\n",
       "      <td>2014-11-18</td>\n",
       "      <td>45561</td>\n",
       "      <td>10285473</td>\n",
       "      <td>2.0</td>\n",
       "      <td>0.0</td>\n",
       "      <td>0.0</td>\n",
       "      <td>0.0</td>\n",
       "      <td>0</td>\n",
       "      <td>0</td>\n",
       "    </tr>\n",
       "    <tr>\n",
       "      <th>1</th>\n",
       "      <td>2014-11-28</td>\n",
       "      <td>45561</td>\n",
       "      <td>10285473</td>\n",
       "      <td>3.0</td>\n",
       "      <td>0.0</td>\n",
       "      <td>0.0</td>\n",
       "      <td>0.0</td>\n",
       "      <td>0</td>\n",
       "      <td>0</td>\n",
       "    </tr>\n",
       "    <tr>\n",
       "      <th>2</th>\n",
       "      <td>2014-12-09</td>\n",
       "      <td>45561</td>\n",
       "      <td>10285473</td>\n",
       "      <td>3.0</td>\n",
       "      <td>0.0</td>\n",
       "      <td>0.0</td>\n",
       "      <td>0.0</td>\n",
       "      <td>0</td>\n",
       "      <td>0</td>\n",
       "    </tr>\n",
       "    <tr>\n",
       "      <th>3</th>\n",
       "      <td>2014-12-11</td>\n",
       "      <td>45561</td>\n",
       "      <td>10285473</td>\n",
       "      <td>2.0</td>\n",
       "      <td>0.0</td>\n",
       "      <td>0.0</td>\n",
       "      <td>0.0</td>\n",
       "      <td>0</td>\n",
       "      <td>0</td>\n",
       "    </tr>\n",
       "    <tr>\n",
       "      <th>4</th>\n",
       "      <td>2014-11-18</td>\n",
       "      <td>45561</td>\n",
       "      <td>118925674</td>\n",
       "      <td>2.0</td>\n",
       "      <td>0.0</td>\n",
       "      <td>0.0</td>\n",
       "      <td>0.0</td>\n",
       "      <td>0</td>\n",
       "      <td>0</td>\n",
       "    </tr>\n",
       "  </tbody>\n",
       "</table>\n",
       "</div>"
      ],
      "text/plain": [
       "    time_day  user_id    item_id  behavior_type_1  behavior_type_2  \\\n",
       "0 2014-11-18    45561   10285473              2.0              0.0   \n",
       "1 2014-11-28    45561   10285473              3.0              0.0   \n",
       "2 2014-12-09    45561   10285473              3.0              0.0   \n",
       "3 2014-12-11    45561   10285473              2.0              0.0   \n",
       "4 2014-11-18    45561  118925674              2.0              0.0   \n",
       "\n",
       "   behavior_type_3  behavior_type_4_x  behavior_type_4_y  label  \n",
       "0              0.0                0.0                  0      0  \n",
       "1              0.0                0.0                  0      0  \n",
       "2              0.0                0.0                  0      0  \n",
       "3              0.0                0.0                  0      0  \n",
       "4              0.0                0.0                  0      0  "
      ]
     },
     "execution_count": 26,
     "metadata": {},
     "output_type": "execute_result"
    }
   ],
   "source": [
    "train_data.head()"
   ]
  },
  {
   "cell_type": "code",
   "execution_count": 27,
   "metadata": {},
   "outputs": [
    {
     "data": {
      "text/html": [
       "<div>\n",
       "<style>\n",
       "    .dataframe thead tr:only-child th {\n",
       "        text-align: right;\n",
       "    }\n",
       "\n",
       "    .dataframe thead th {\n",
       "        text-align: left;\n",
       "    }\n",
       "\n",
       "    .dataframe tbody tr th {\n",
       "        vertical-align: top;\n",
       "    }\n",
       "</style>\n",
       "<table border=\"1\" class=\"dataframe\">\n",
       "  <thead>\n",
       "    <tr style=\"text-align: right;\">\n",
       "      <th></th>\n",
       "      <th>time_day</th>\n",
       "      <th>user_id</th>\n",
       "      <th>item_id</th>\n",
       "      <th>behavior_type_1</th>\n",
       "      <th>behavior_type_2</th>\n",
       "      <th>behavior_type_3</th>\n",
       "      <th>behavior_type_4_x</th>\n",
       "      <th>label</th>\n",
       "    </tr>\n",
       "  </thead>\n",
       "  <tbody>\n",
       "    <tr>\n",
       "      <th>0</th>\n",
       "      <td>2014-11-18</td>\n",
       "      <td>45561</td>\n",
       "      <td>10285473</td>\n",
       "      <td>2.0</td>\n",
       "      <td>0.0</td>\n",
       "      <td>0.0</td>\n",
       "      <td>0.0</td>\n",
       "      <td>0</td>\n",
       "    </tr>\n",
       "    <tr>\n",
       "      <th>1</th>\n",
       "      <td>2014-11-28</td>\n",
       "      <td>45561</td>\n",
       "      <td>10285473</td>\n",
       "      <td>3.0</td>\n",
       "      <td>0.0</td>\n",
       "      <td>0.0</td>\n",
       "      <td>0.0</td>\n",
       "      <td>0</td>\n",
       "    </tr>\n",
       "    <tr>\n",
       "      <th>2</th>\n",
       "      <td>2014-12-09</td>\n",
       "      <td>45561</td>\n",
       "      <td>10285473</td>\n",
       "      <td>3.0</td>\n",
       "      <td>0.0</td>\n",
       "      <td>0.0</td>\n",
       "      <td>0.0</td>\n",
       "      <td>0</td>\n",
       "    </tr>\n",
       "    <tr>\n",
       "      <th>3</th>\n",
       "      <td>2014-12-11</td>\n",
       "      <td>45561</td>\n",
       "      <td>10285473</td>\n",
       "      <td>2.0</td>\n",
       "      <td>0.0</td>\n",
       "      <td>0.0</td>\n",
       "      <td>0.0</td>\n",
       "      <td>0</td>\n",
       "    </tr>\n",
       "    <tr>\n",
       "      <th>4</th>\n",
       "      <td>2014-11-18</td>\n",
       "      <td>45561</td>\n",
       "      <td>118925674</td>\n",
       "      <td>2.0</td>\n",
       "      <td>0.0</td>\n",
       "      <td>0.0</td>\n",
       "      <td>0.0</td>\n",
       "      <td>0</td>\n",
       "    </tr>\n",
       "  </tbody>\n",
       "</table>\n",
       "</div>"
      ],
      "text/plain": [
       "    time_day  user_id    item_id  behavior_type_1  behavior_type_2  \\\n",
       "0 2014-11-18    45561   10285473              2.0              0.0   \n",
       "1 2014-11-28    45561   10285473              3.0              0.0   \n",
       "2 2014-12-09    45561   10285473              3.0              0.0   \n",
       "3 2014-12-11    45561   10285473              2.0              0.0   \n",
       "4 2014-11-18    45561  118925674              2.0              0.0   \n",
       "\n",
       "   behavior_type_3  behavior_type_4_x  label  \n",
       "0              0.0                0.0      0  \n",
       "1              0.0                0.0      0  \n",
       "2              0.0                0.0      0  \n",
       "3              0.0                0.0      0  \n",
       "4              0.0                0.0      0  "
      ]
     },
     "execution_count": 27,
     "metadata": {},
     "output_type": "execute_result"
    }
   ],
   "source": [
    "train_data = train_data.drop('behavior_type_4_y', axis=1)\n",
    "train_data.head()"
   ]
  },
  {
   "cell_type": "code",
   "execution_count": 28,
   "metadata": {},
   "outputs": [
    {
     "data": {
      "text/html": [
       "<div>\n",
       "<style>\n",
       "    .dataframe thead tr:only-child th {\n",
       "        text-align: right;\n",
       "    }\n",
       "\n",
       "    .dataframe thead th {\n",
       "        text-align: left;\n",
       "    }\n",
       "\n",
       "    .dataframe tbody tr th {\n",
       "        vertical-align: top;\n",
       "    }\n",
       "</style>\n",
       "<table border=\"1\" class=\"dataframe\">\n",
       "  <thead>\n",
       "    <tr style=\"text-align: right;\">\n",
       "      <th></th>\n",
       "      <th>time_day</th>\n",
       "      <th>user_id</th>\n",
       "      <th>item_id</th>\n",
       "      <th>behavior_type_1</th>\n",
       "      <th>behavior_type_2</th>\n",
       "      <th>behavior_type_3</th>\n",
       "      <th>behavior_type_4</th>\n",
       "    </tr>\n",
       "  </thead>\n",
       "  <tbody>\n",
       "    <tr>\n",
       "      <th>293559</th>\n",
       "      <td>2014-11-19</td>\n",
       "      <td>19137</td>\n",
       "      <td>220377409</td>\n",
       "      <td>2</td>\n",
       "      <td>0</td>\n",
       "      <td>1</td>\n",
       "      <td>0</td>\n",
       "    </tr>\n",
       "    <tr>\n",
       "      <th>293560</th>\n",
       "      <td>2014-11-19</td>\n",
       "      <td>19137</td>\n",
       "      <td>369246026</td>\n",
       "      <td>2</td>\n",
       "      <td>0</td>\n",
       "      <td>0</td>\n",
       "      <td>0</td>\n",
       "    </tr>\n",
       "    <tr>\n",
       "      <th>293561</th>\n",
       "      <td>2014-11-19</td>\n",
       "      <td>36465</td>\n",
       "      <td>394732311</td>\n",
       "      <td>1</td>\n",
       "      <td>0</td>\n",
       "      <td>0</td>\n",
       "      <td>0</td>\n",
       "    </tr>\n",
       "    <tr>\n",
       "      <th>293562</th>\n",
       "      <td>2014-11-19</td>\n",
       "      <td>37101</td>\n",
       "      <td>81135321</td>\n",
       "      <td>2</td>\n",
       "      <td>0</td>\n",
       "      <td>0</td>\n",
       "      <td>0</td>\n",
       "    </tr>\n",
       "    <tr>\n",
       "      <th>293563</th>\n",
       "      <td>2014-11-19</td>\n",
       "      <td>37101</td>\n",
       "      <td>104593147</td>\n",
       "      <td>2</td>\n",
       "      <td>0</td>\n",
       "      <td>0</td>\n",
       "      <td>0</td>\n",
       "    </tr>\n",
       "  </tbody>\n",
       "</table>\n",
       "</div>"
      ],
      "text/plain": [
       "         time_day  user_id    item_id  behavior_type_1  behavior_type_2  \\\n",
       "293559 2014-11-19    19137  220377409                2                0   \n",
       "293560 2014-11-19    19137  369246026                2                0   \n",
       "293561 2014-11-19    36465  394732311                1                0   \n",
       "293562 2014-11-19    37101   81135321                2                0   \n",
       "293563 2014-11-19    37101  104593147                2                0   \n",
       "\n",
       "        behavior_type_3  behavior_type_4  \n",
       "293559                1                0  \n",
       "293560                0                0  \n",
       "293561                0                0  \n",
       "293562                0                0  \n",
       "293563                0                0  "
      ]
     },
     "execution_count": 28,
     "metadata": {},
     "output_type": "execute_result"
    }
   ],
   "source": [
    "test_features = user_df[(user_df.time_day>='2014-11-19')&(user_df.time_day<='2014-12-17')]\n",
    "test_features.head()"
   ]
  },
  {
   "cell_type": "code",
   "execution_count": 29,
   "metadata": {},
   "outputs": [
    {
     "data": {
      "text/html": [
       "<div>\n",
       "<style>\n",
       "    .dataframe thead tr:only-child th {\n",
       "        text-align: right;\n",
       "    }\n",
       "\n",
       "    .dataframe thead th {\n",
       "        text-align: left;\n",
       "    }\n",
       "\n",
       "    .dataframe tbody tr th {\n",
       "        vertical-align: top;\n",
       "    }\n",
       "</style>\n",
       "<table border=\"1\" class=\"dataframe\">\n",
       "  <thead>\n",
       "    <tr style=\"text-align: right;\">\n",
       "      <th></th>\n",
       "      <th>user_id</th>\n",
       "      <th>item_id</th>\n",
       "      <th>behavior_type_4</th>\n",
       "    </tr>\n",
       "  </thead>\n",
       "  <tbody>\n",
       "    <tr>\n",
       "      <th>9709314</th>\n",
       "      <td>492</td>\n",
       "      <td>68197904</td>\n",
       "      <td>0</td>\n",
       "    </tr>\n",
       "    <tr>\n",
       "      <th>9709315</th>\n",
       "      <td>492</td>\n",
       "      <td>169720786</td>\n",
       "      <td>0</td>\n",
       "    </tr>\n",
       "    <tr>\n",
       "      <th>9709316</th>\n",
       "      <td>492</td>\n",
       "      <td>262056903</td>\n",
       "      <td>0</td>\n",
       "    </tr>\n",
       "    <tr>\n",
       "      <th>9709317</th>\n",
       "      <td>492</td>\n",
       "      <td>319959973</td>\n",
       "      <td>0</td>\n",
       "    </tr>\n",
       "    <tr>\n",
       "      <th>9709318</th>\n",
       "      <td>3726</td>\n",
       "      <td>2742779</td>\n",
       "      <td>0</td>\n",
       "    </tr>\n",
       "  </tbody>\n",
       "</table>\n",
       "</div>"
      ],
      "text/plain": [
       "         user_id    item_id  behavior_type_4\n",
       "9709314      492   68197904                0\n",
       "9709315      492  169720786                0\n",
       "9709316      492  262056903                0\n",
       "9709317      492  319959973                0\n",
       "9709318     3726    2742779                0"
      ]
     },
     "execution_count": 29,
     "metadata": {},
     "output_type": "execute_result"
    }
   ],
   "source": [
    "test_label = user_df[user_df['time_day']=='2014-12-18'][['user_id', 'item_id', 'behavior_type_4']]\n",
    "test_label.head()"
   ]
  },
  {
   "cell_type": "code",
   "execution_count": 30,
   "metadata": {},
   "outputs": [
    {
     "name": "stdout",
     "output_type": "stream",
     "text": [
      "<class 'pandas.core.frame.DataFrame'>\n",
      "Int64Index: 307137 entries, 9709314 to 10016450\n",
      "Data columns (total 3 columns):\n",
      "user_id            307137 non-null int64\n",
      "item_id            307137 non-null int64\n",
      "behavior_type_4    307137 non-null uint8\n",
      "dtypes: int64(2), uint8(1)\n",
      "memory usage: 7.3 MB\n"
     ]
    }
   ],
   "source": [
    "test_label.info()"
   ]
  },
  {
   "cell_type": "code",
   "execution_count": 31,
   "metadata": {},
   "outputs": [
    {
     "name": "stdout",
     "output_type": "stream",
     "text": [
      "<class 'pandas.core.frame.DataFrame'>\n",
      "Int64Index: 6124 entries, 9709403 to 10016448\n",
      "Data columns (total 3 columns):\n",
      "user_id            6124 non-null int64\n",
      "item_id            6124 non-null int64\n",
      "behavior_type_4    6124 non-null uint8\n",
      "dtypes: int64(2), uint8(1)\n",
      "memory usage: 149.5 KB\n"
     ]
    }
   ],
   "source": [
    "test_label[test_label['behavior_type_4']>0].info()"
   ]
  },
  {
   "cell_type": "code",
   "execution_count": 32,
   "metadata": {},
   "outputs": [
    {
     "name": "stdout",
     "output_type": "stream",
     "text": [
      "<class 'pandas.core.frame.DataFrame'>\n",
      "Int64Index: 301013 entries, 9709314 to 10016450\n",
      "Data columns (total 3 columns):\n",
      "user_id            301013 non-null int64\n",
      "item_id            301013 non-null int64\n",
      "behavior_type_4    301013 non-null uint8\n",
      "dtypes: int64(2), uint8(1)\n",
      "memory usage: 7.2 MB\n"
     ]
    }
   ],
   "source": [
    "test_label[test_label['behavior_type_4']==0].info()"
   ]
  },
  {
   "cell_type": "code",
   "execution_count": 33,
   "metadata": {},
   "outputs": [
    {
     "data": {
      "text/html": [
       "<div>\n",
       "<style>\n",
       "    .dataframe thead tr:only-child th {\n",
       "        text-align: right;\n",
       "    }\n",
       "\n",
       "    .dataframe thead th {\n",
       "        text-align: left;\n",
       "    }\n",
       "\n",
       "    .dataframe tbody tr th {\n",
       "        vertical-align: top;\n",
       "    }\n",
       "</style>\n",
       "<table border=\"1\" class=\"dataframe\">\n",
       "  <thead>\n",
       "    <tr style=\"text-align: right;\">\n",
       "      <th></th>\n",
       "      <th>time_day</th>\n",
       "      <th>user_id</th>\n",
       "      <th>item_id</th>\n",
       "      <th>behavior_type_1</th>\n",
       "      <th>behavior_type_2</th>\n",
       "      <th>behavior_type_3</th>\n",
       "      <th>behavior_type_4_x</th>\n",
       "      <th>behavior_type_4_y</th>\n",
       "    </tr>\n",
       "  </thead>\n",
       "  <tbody>\n",
       "    <tr>\n",
       "      <th>0</th>\n",
       "      <td>2014-11-19</td>\n",
       "      <td>412008</td>\n",
       "      <td>350277709</td>\n",
       "      <td>4.0</td>\n",
       "      <td>0.0</td>\n",
       "      <td>0.0</td>\n",
       "      <td>0.0</td>\n",
       "      <td>0</td>\n",
       "    </tr>\n",
       "    <tr>\n",
       "      <th>1</th>\n",
       "      <td>2014-11-26</td>\n",
       "      <td>412008</td>\n",
       "      <td>350277709</td>\n",
       "      <td>2.0</td>\n",
       "      <td>0.0</td>\n",
       "      <td>0.0</td>\n",
       "      <td>0.0</td>\n",
       "      <td>0</td>\n",
       "    </tr>\n",
       "    <tr>\n",
       "      <th>2</th>\n",
       "      <td>2014-12-04</td>\n",
       "      <td>412008</td>\n",
       "      <td>350277709</td>\n",
       "      <td>6.0</td>\n",
       "      <td>0.0</td>\n",
       "      <td>0.0</td>\n",
       "      <td>0.0</td>\n",
       "      <td>0</td>\n",
       "    </tr>\n",
       "    <tr>\n",
       "      <th>3</th>\n",
       "      <td>2014-12-05</td>\n",
       "      <td>412008</td>\n",
       "      <td>350277709</td>\n",
       "      <td>4.0</td>\n",
       "      <td>0.0</td>\n",
       "      <td>0.0</td>\n",
       "      <td>0.0</td>\n",
       "      <td>0</td>\n",
       "    </tr>\n",
       "    <tr>\n",
       "      <th>4</th>\n",
       "      <td>2014-12-11</td>\n",
       "      <td>412008</td>\n",
       "      <td>350277709</td>\n",
       "      <td>2.0</td>\n",
       "      <td>0.0</td>\n",
       "      <td>0.0</td>\n",
       "      <td>0.0</td>\n",
       "      <td>0</td>\n",
       "    </tr>\n",
       "  </tbody>\n",
       "</table>\n",
       "</div>"
      ],
      "text/plain": [
       "    time_day  user_id    item_id  behavior_type_1  behavior_type_2  \\\n",
       "0 2014-11-19   412008  350277709              4.0              0.0   \n",
       "1 2014-11-26   412008  350277709              2.0              0.0   \n",
       "2 2014-12-04   412008  350277709              6.0              0.0   \n",
       "3 2014-12-05   412008  350277709              4.0              0.0   \n",
       "4 2014-12-11   412008  350277709              2.0              0.0   \n",
       "\n",
       "   behavior_type_3  behavior_type_4_x  behavior_type_4_y  \n",
       "0              0.0                0.0                  0  \n",
       "1              0.0                0.0                  0  \n",
       "2              0.0                0.0                  0  \n",
       "3              0.0                0.0                  0  \n",
       "4              0.0                0.0                  0  "
      ]
     },
     "execution_count": 33,
     "metadata": {},
     "output_type": "execute_result"
    }
   ],
   "source": [
    "test_data = pd.merge(test_features, test_label, on=['user_id', 'item_id'], how='right').fillna(0)\n",
    "test_data.head()"
   ]
  },
  {
   "cell_type": "code",
   "execution_count": 34,
   "metadata": {},
   "outputs": [
    {
     "data": {
      "text/html": [
       "<div>\n",
       "<style>\n",
       "    .dataframe thead tr:only-child th {\n",
       "        text-align: right;\n",
       "    }\n",
       "\n",
       "    .dataframe thead th {\n",
       "        text-align: left;\n",
       "    }\n",
       "\n",
       "    .dataframe tbody tr th {\n",
       "        vertical-align: top;\n",
       "    }\n",
       "</style>\n",
       "<table border=\"1\" class=\"dataframe\">\n",
       "  <thead>\n",
       "    <tr style=\"text-align: right;\">\n",
       "      <th></th>\n",
       "      <th>time_day</th>\n",
       "      <th>user_id</th>\n",
       "      <th>item_id</th>\n",
       "      <th>behavior_type_1</th>\n",
       "      <th>behavior_type_2</th>\n",
       "      <th>behavior_type_3</th>\n",
       "      <th>behavior_type_4_x</th>\n",
       "      <th>behavior_type_4_y</th>\n",
       "      <th>label</th>\n",
       "    </tr>\n",
       "  </thead>\n",
       "  <tbody>\n",
       "    <tr>\n",
       "      <th>0</th>\n",
       "      <td>2014-11-19</td>\n",
       "      <td>412008</td>\n",
       "      <td>350277709</td>\n",
       "      <td>4.0</td>\n",
       "      <td>0.0</td>\n",
       "      <td>0.0</td>\n",
       "      <td>0.0</td>\n",
       "      <td>0</td>\n",
       "      <td>0</td>\n",
       "    </tr>\n",
       "    <tr>\n",
       "      <th>1</th>\n",
       "      <td>2014-11-26</td>\n",
       "      <td>412008</td>\n",
       "      <td>350277709</td>\n",
       "      <td>2.0</td>\n",
       "      <td>0.0</td>\n",
       "      <td>0.0</td>\n",
       "      <td>0.0</td>\n",
       "      <td>0</td>\n",
       "      <td>0</td>\n",
       "    </tr>\n",
       "    <tr>\n",
       "      <th>2</th>\n",
       "      <td>2014-12-04</td>\n",
       "      <td>412008</td>\n",
       "      <td>350277709</td>\n",
       "      <td>6.0</td>\n",
       "      <td>0.0</td>\n",
       "      <td>0.0</td>\n",
       "      <td>0.0</td>\n",
       "      <td>0</td>\n",
       "      <td>0</td>\n",
       "    </tr>\n",
       "    <tr>\n",
       "      <th>3</th>\n",
       "      <td>2014-12-05</td>\n",
       "      <td>412008</td>\n",
       "      <td>350277709</td>\n",
       "      <td>4.0</td>\n",
       "      <td>0.0</td>\n",
       "      <td>0.0</td>\n",
       "      <td>0.0</td>\n",
       "      <td>0</td>\n",
       "      <td>0</td>\n",
       "    </tr>\n",
       "    <tr>\n",
       "      <th>4</th>\n",
       "      <td>2014-12-11</td>\n",
       "      <td>412008</td>\n",
       "      <td>350277709</td>\n",
       "      <td>2.0</td>\n",
       "      <td>0.0</td>\n",
       "      <td>0.0</td>\n",
       "      <td>0.0</td>\n",
       "      <td>0</td>\n",
       "      <td>0</td>\n",
       "    </tr>\n",
       "  </tbody>\n",
       "</table>\n",
       "</div>"
      ],
      "text/plain": [
       "    time_day  user_id    item_id  behavior_type_1  behavior_type_2  \\\n",
       "0 2014-11-19   412008  350277709              4.0              0.0   \n",
       "1 2014-11-26   412008  350277709              2.0              0.0   \n",
       "2 2014-12-04   412008  350277709              6.0              0.0   \n",
       "3 2014-12-05   412008  350277709              4.0              0.0   \n",
       "4 2014-12-11   412008  350277709              2.0              0.0   \n",
       "\n",
       "   behavior_type_3  behavior_type_4_x  behavior_type_4_y  label  \n",
       "0              0.0                0.0                  0      0  \n",
       "1              0.0                0.0                  0      0  \n",
       "2              0.0                0.0                  0      0  \n",
       "3              0.0                0.0                  0      0  \n",
       "4              0.0                0.0                  0      0  "
      ]
     },
     "execution_count": 34,
     "metadata": {},
     "output_type": "execute_result"
    }
   ],
   "source": [
    "test_data['label'] = test_data.behavior_type_4_y.apply(lambda x: 1 if x>0 else 0)\n",
    "test_data.head()"
   ]
  },
  {
   "cell_type": "code",
   "execution_count": 35,
   "metadata": {},
   "outputs": [
    {
     "data": {
      "text/html": [
       "<div>\n",
       "<style>\n",
       "    .dataframe thead tr:only-child th {\n",
       "        text-align: right;\n",
       "    }\n",
       "\n",
       "    .dataframe thead th {\n",
       "        text-align: left;\n",
       "    }\n",
       "\n",
       "    .dataframe tbody tr th {\n",
       "        vertical-align: top;\n",
       "    }\n",
       "</style>\n",
       "<table border=\"1\" class=\"dataframe\">\n",
       "  <thead>\n",
       "    <tr style=\"text-align: right;\">\n",
       "      <th></th>\n",
       "      <th>time_day</th>\n",
       "      <th>user_id</th>\n",
       "      <th>item_id</th>\n",
       "      <th>behavior_type_1</th>\n",
       "      <th>behavior_type_2</th>\n",
       "      <th>behavior_type_3</th>\n",
       "      <th>behavior_type_4_x</th>\n",
       "      <th>label</th>\n",
       "    </tr>\n",
       "  </thead>\n",
       "  <tbody>\n",
       "    <tr>\n",
       "      <th>0</th>\n",
       "      <td>2014-11-19</td>\n",
       "      <td>412008</td>\n",
       "      <td>350277709</td>\n",
       "      <td>4.0</td>\n",
       "      <td>0.0</td>\n",
       "      <td>0.0</td>\n",
       "      <td>0.0</td>\n",
       "      <td>0</td>\n",
       "    </tr>\n",
       "    <tr>\n",
       "      <th>1</th>\n",
       "      <td>2014-11-26</td>\n",
       "      <td>412008</td>\n",
       "      <td>350277709</td>\n",
       "      <td>2.0</td>\n",
       "      <td>0.0</td>\n",
       "      <td>0.0</td>\n",
       "      <td>0.0</td>\n",
       "      <td>0</td>\n",
       "    </tr>\n",
       "    <tr>\n",
       "      <th>2</th>\n",
       "      <td>2014-12-04</td>\n",
       "      <td>412008</td>\n",
       "      <td>350277709</td>\n",
       "      <td>6.0</td>\n",
       "      <td>0.0</td>\n",
       "      <td>0.0</td>\n",
       "      <td>0.0</td>\n",
       "      <td>0</td>\n",
       "    </tr>\n",
       "    <tr>\n",
       "      <th>3</th>\n",
       "      <td>2014-12-05</td>\n",
       "      <td>412008</td>\n",
       "      <td>350277709</td>\n",
       "      <td>4.0</td>\n",
       "      <td>0.0</td>\n",
       "      <td>0.0</td>\n",
       "      <td>0.0</td>\n",
       "      <td>0</td>\n",
       "    </tr>\n",
       "    <tr>\n",
       "      <th>4</th>\n",
       "      <td>2014-12-11</td>\n",
       "      <td>412008</td>\n",
       "      <td>350277709</td>\n",
       "      <td>2.0</td>\n",
       "      <td>0.0</td>\n",
       "      <td>0.0</td>\n",
       "      <td>0.0</td>\n",
       "      <td>0</td>\n",
       "    </tr>\n",
       "  </tbody>\n",
       "</table>\n",
       "</div>"
      ],
      "text/plain": [
       "    time_day  user_id    item_id  behavior_type_1  behavior_type_2  \\\n",
       "0 2014-11-19   412008  350277709              4.0              0.0   \n",
       "1 2014-11-26   412008  350277709              2.0              0.0   \n",
       "2 2014-12-04   412008  350277709              6.0              0.0   \n",
       "3 2014-12-05   412008  350277709              4.0              0.0   \n",
       "4 2014-12-11   412008  350277709              2.0              0.0   \n",
       "\n",
       "   behavior_type_3  behavior_type_4_x  label  \n",
       "0              0.0                0.0      0  \n",
       "1              0.0                0.0      0  \n",
       "2              0.0                0.0      0  \n",
       "3              0.0                0.0      0  \n",
       "4              0.0                0.0      0  "
      ]
     },
     "execution_count": 35,
     "metadata": {},
     "output_type": "execute_result"
    }
   ],
   "source": [
    "test_data = test_data.drop('behavior_type_4_y', axis=1)\n",
    "test_data.head()"
   ]
  },
  {
   "cell_type": "code",
   "execution_count": 36,
   "metadata": {},
   "outputs": [
    {
     "name": "stdout",
     "output_type": "stream",
     "text": [
      "<class 'pandas.core.frame.DataFrame'>\n",
      "Int64Index: 345960 entries, 0 to 345959\n",
      "Data columns (total 8 columns):\n",
      "time_day             345960 non-null datetime64[ns]\n",
      "user_id              345960 non-null int64\n",
      "item_id              345960 non-null int64\n",
      "behavior_type_1      345960 non-null float64\n",
      "behavior_type_2      345960 non-null float64\n",
      "behavior_type_3      345960 non-null float64\n",
      "behavior_type_4_x    345960 non-null float64\n",
      "label                345960 non-null int64\n",
      "dtypes: datetime64[ns](1), float64(4), int64(3)\n",
      "memory usage: 23.8 MB\n"
     ]
    }
   ],
   "source": [
    "test_data.info()"
   ]
  },
  {
   "cell_type": "code",
   "execution_count": 37,
   "metadata": {},
   "outputs": [
    {
     "data": {
      "text/plain": [
       "0    338280\n",
       "1      7680\n",
       "Name: label, dtype: int64"
      ]
     },
     "execution_count": 37,
     "metadata": {},
     "output_type": "execute_result"
    }
   ],
   "source": [
    "test_data['label'].value_counts()"
   ]
  },
  {
   "cell_type": "code",
   "execution_count": 38,
   "metadata": {},
   "outputs": [
    {
     "data": {
      "text/html": [
       "<div>\n",
       "<style>\n",
       "    .dataframe thead tr:only-child th {\n",
       "        text-align: right;\n",
       "    }\n",
       "\n",
       "    .dataframe thead th {\n",
       "        text-align: left;\n",
       "    }\n",
       "\n",
       "    .dataframe tbody tr th {\n",
       "        vertical-align: top;\n",
       "    }\n",
       "</style>\n",
       "<table border=\"1\" class=\"dataframe\">\n",
       "  <thead>\n",
       "    <tr style=\"text-align: right;\">\n",
       "      <th></th>\n",
       "      <th>time_day</th>\n",
       "      <th>user_id</th>\n",
       "      <th>item_id</th>\n",
       "      <th>behavior_type_1</th>\n",
       "      <th>behavior_type_2</th>\n",
       "      <th>behavior_type_3</th>\n",
       "      <th>behavior_type_4</th>\n",
       "    </tr>\n",
       "  </thead>\n",
       "  <tbody>\n",
       "    <tr>\n",
       "      <th>591225</th>\n",
       "      <td>2014-11-20</td>\n",
       "      <td>37101</td>\n",
       "      <td>20422603</td>\n",
       "      <td>2</td>\n",
       "      <td>0</td>\n",
       "      <td>0</td>\n",
       "      <td>0</td>\n",
       "    </tr>\n",
       "    <tr>\n",
       "      <th>591226</th>\n",
       "      <td>2014-11-20</td>\n",
       "      <td>37101</td>\n",
       "      <td>58073746</td>\n",
       "      <td>2</td>\n",
       "      <td>0</td>\n",
       "      <td>0</td>\n",
       "      <td>0</td>\n",
       "    </tr>\n",
       "    <tr>\n",
       "      <th>591227</th>\n",
       "      <td>2014-11-20</td>\n",
       "      <td>37101</td>\n",
       "      <td>79406933</td>\n",
       "      <td>4</td>\n",
       "      <td>0</td>\n",
       "      <td>0</td>\n",
       "      <td>0</td>\n",
       "    </tr>\n",
       "    <tr>\n",
       "      <th>591228</th>\n",
       "      <td>2014-11-20</td>\n",
       "      <td>37101</td>\n",
       "      <td>92536577</td>\n",
       "      <td>2</td>\n",
       "      <td>0</td>\n",
       "      <td>0</td>\n",
       "      <td>0</td>\n",
       "    </tr>\n",
       "    <tr>\n",
       "      <th>591229</th>\n",
       "      <td>2014-11-20</td>\n",
       "      <td>37101</td>\n",
       "      <td>111409691</td>\n",
       "      <td>2</td>\n",
       "      <td>0</td>\n",
       "      <td>0</td>\n",
       "      <td>0</td>\n",
       "    </tr>\n",
       "  </tbody>\n",
       "</table>\n",
       "</div>"
      ],
      "text/plain": [
       "         time_day  user_id    item_id  behavior_type_1  behavior_type_2  \\\n",
       "591225 2014-11-20    37101   20422603                2                0   \n",
       "591226 2014-11-20    37101   58073746                2                0   \n",
       "591227 2014-11-20    37101   79406933                4                0   \n",
       "591228 2014-11-20    37101   92536577                2                0   \n",
       "591229 2014-11-20    37101  111409691                2                0   \n",
       "\n",
       "        behavior_type_3  behavior_type_4  \n",
       "591225                0                0  \n",
       "591226                0                0  \n",
       "591227                0                0  \n",
       "591228                0                0  \n",
       "591229                0                0  "
      ]
     },
     "execution_count": 38,
     "metadata": {},
     "output_type": "execute_result"
    }
   ],
   "source": [
    "pred_features = user_df[(user_df.time_day>='2014-11-20')&(user_df.time_day<='2014-12-18')]\n",
    "pred_features.head()"
   ]
  },
  {
   "cell_type": "code",
   "execution_count": 39,
   "metadata": {},
   "outputs": [
    {
     "name": "stdout",
     "output_type": "stream",
     "text": [
      "<class 'pandas.core.frame.DataFrame'>\n",
      "Int64Index: 9425226 entries, 591225 to 10016450\n",
      "Data columns (total 7 columns):\n",
      "time_day           datetime64[ns]\n",
      "user_id            int64\n",
      "item_id            int64\n",
      "behavior_type_1    uint8\n",
      "behavior_type_2    uint8\n",
      "behavior_type_3    uint8\n",
      "behavior_type_4    uint8\n",
      "dtypes: datetime64[ns](1), int64(2), uint8(4)\n",
      "memory usage: 323.6 MB\n"
     ]
    }
   ],
   "source": [
    "pred_features.info()"
   ]
  },
  {
   "cell_type": "code",
   "execution_count": 40,
   "metadata": {
    "collapsed": true
   },
   "outputs": [],
   "source": [
    "x_train = train_data.iloc[:, 3:7]\n",
    "y_train = train_data.iloc[:, -1]"
   ]
  },
  {
   "cell_type": "code",
   "execution_count": 41,
   "metadata": {
    "collapsed": true
   },
   "outputs": [],
   "source": [
    "x_test = test_data.iloc[:, 3:7]\n",
    "y_test = test_data.iloc[:, -1]"
   ]
  },
  {
   "cell_type": "code",
   "execution_count": 42,
   "metadata": {
    "collapsed": true
   },
   "outputs": [],
   "source": [
    "x_pred = pred_features.iloc[:, 3:]"
   ]
  },
  {
   "cell_type": "code",
   "execution_count": 43,
   "metadata": {},
   "outputs": [
    {
     "data": {
      "text/plain": [
       "0    349822\n",
       "1      7737\n",
       "Name: label, dtype: int64"
      ]
     },
     "execution_count": 43,
     "metadata": {},
     "output_type": "execute_result"
    }
   ],
   "source": [
    "y_train.value_counts()"
   ]
  },
  {
   "cell_type": "code",
   "execution_count": 44,
   "metadata": {
    "collapsed": true
   },
   "outputs": [],
   "source": [
    "from imblearn.over_sampling import SMOTE\n",
    "from collections import Counter"
   ]
  },
  {
   "cell_type": "code",
   "execution_count": 45,
   "metadata": {
    "collapsed": true
   },
   "outputs": [],
   "source": [
    "over_sample = SMOTE()\n",
    "x_train_over_sample, y_train_over_sample = over_sample.fit_sample(x_train, y_train)"
   ]
  },
  {
   "cell_type": "code",
   "execution_count": 46,
   "metadata": {},
   "outputs": [
    {
     "data": {
      "text/plain": [
       "Counter({0: 349822, 1: 349822})"
      ]
     },
     "execution_count": 46,
     "metadata": {},
     "output_type": "execute_result"
    }
   ],
   "source": [
    "Counter(y_train_over_sample)"
   ]
  },
  {
   "cell_type": "markdown",
   "metadata": {},
   "source": [
    "## Logistic Regression"
   ]
  },
  {
   "cell_type": "code",
   "execution_count": 49,
   "metadata": {
    "collapsed": true
   },
   "outputs": [],
   "source": [
    "from sklearn.model_selection import cross_val_score\n",
    "from sklearn.linear_model import LogisticRegression"
   ]
  },
  {
   "cell_type": "code",
   "execution_count": 109,
   "metadata": {},
   "outputs": [
    {
     "name": "stdout",
     "output_type": "stream",
     "text": [
      "0.210473857855\n",
      "0.382687338501\n",
      "0.175987874403\n"
     ]
    }
   ],
   "source": [
    "clf = LogisticRegression(class_weight='balanced')\n",
    "\n",
    "precision = np.mean(cross_val_score(clf, x_train, y_train, cv=10, scoring='precision'))\n",
    "recall = np.mean(cross_val_score(clf, x_train, y_train, cv=10, scoring='recall'))\n",
    "F1 = np.mean(cross_val_score(clf, x_train, y_train, cv=10, scoring='f1'))\n",
    "\n",
    "print precision\n",
    "print recall\n",
    "print F1"
   ]
  },
  {
   "cell_type": "code",
   "execution_count": 110,
   "metadata": {
    "collapsed": true
   },
   "outputs": [],
   "source": [
    "clf.fit(x_train, y_train)\n",
    "y_pred = clf.predict(x_test)"
   ]
  },
  {
   "cell_type": "code",
   "execution_count": 53,
   "metadata": {
    "collapsed": true
   },
   "outputs": [],
   "source": [
    "from sklearn import metrics"
   ]
  },
  {
   "cell_type": "code",
   "execution_count": 112,
   "metadata": {},
   "outputs": [
    {
     "name": "stdout",
     "output_type": "stream",
     "text": [
      "0.0514730125482\n",
      "0.345572916667\n",
      "0.0896001080333\n"
     ]
    }
   ],
   "source": [
    "print metrics.precision_score(y_test, y_pred)\n",
    "print metrics.recall_score(y_test, y_pred)\n",
    "print metrics.f1_score(y_test, y_pred)"
   ]
  },
  {
   "cell_type": "code",
   "execution_count": 116,
   "metadata": {},
   "outputs": [
    {
     "name": "stderr",
     "output_type": "stream",
     "text": [
      "D:\\Anaconda2\\lib\\site-packages\\ipykernel_launcher.py:2: SettingWithCopyWarning: \n",
      "A value is trying to be set on a copy of a slice from a DataFrame.\n",
      "Try using .loc[row_indexer,col_indexer] = value instead\n",
      "\n",
      "See the caveats in the documentation: http://pandas.pydata.org/pandas-docs/stable/indexing.html#indexing-view-versus-copy\n",
      "  \n"
     ]
    },
    {
     "data": {
      "text/html": [
       "<div>\n",
       "<style>\n",
       "    .dataframe thead tr:only-child th {\n",
       "        text-align: right;\n",
       "    }\n",
       "\n",
       "    .dataframe thead th {\n",
       "        text-align: left;\n",
       "    }\n",
       "\n",
       "    .dataframe tbody tr th {\n",
       "        vertical-align: top;\n",
       "    }\n",
       "</style>\n",
       "<table border=\"1\" class=\"dataframe\">\n",
       "  <thead>\n",
       "    <tr style=\"text-align: right;\">\n",
       "      <th></th>\n",
       "      <th>user_id</th>\n",
       "      <th>item_id</th>\n",
       "    </tr>\n",
       "  </thead>\n",
       "  <tbody>\n",
       "    <tr>\n",
       "      <th>591227</th>\n",
       "      <td>37101</td>\n",
       "      <td>79406933</td>\n",
       "    </tr>\n",
       "    <tr>\n",
       "      <th>591231</th>\n",
       "      <td>37101</td>\n",
       "      <td>148154020</td>\n",
       "    </tr>\n",
       "    <tr>\n",
       "      <th>591232</th>\n",
       "      <td>37101</td>\n",
       "      <td>168955945</td>\n",
       "    </tr>\n",
       "    <tr>\n",
       "      <th>591233</th>\n",
       "      <td>37101</td>\n",
       "      <td>220543169</td>\n",
       "    </tr>\n",
       "    <tr>\n",
       "      <th>591235</th>\n",
       "      <td>37101</td>\n",
       "      <td>342106807</td>\n",
       "    </tr>\n",
       "  </tbody>\n",
       "</table>\n",
       "</div>"
      ],
      "text/plain": [
       "        user_id    item_id\n",
       "591227    37101   79406933\n",
       "591231    37101  148154020\n",
       "591232    37101  168955945\n",
       "591233    37101  220543169\n",
       "591235    37101  342106807"
      ]
     },
     "execution_count": 116,
     "metadata": {},
     "output_type": "execute_result"
    }
   ],
   "source": [
    "predict = clf.predict(x_pred)\n",
    "pred_features['label'] = predict\n",
    "submission = pred_features[pred_features['label']==1][['user_id', 'item_id']]\n",
    "submission.head()"
   ]
  },
  {
   "cell_type": "code",
   "execution_count": 117,
   "metadata": {
    "collapsed": true
   },
   "outputs": [],
   "source": [
    "submission.to_csv('tianchi_mobile_recommendation_predict.csv', index=False)"
   ]
  },
  {
   "cell_type": "markdown",
   "metadata": {},
   "source": [
    "使用过采样的数据进行建模测试"
   ]
  },
  {
   "cell_type": "code",
   "execution_count": 127,
   "metadata": {},
   "outputs": [
    {
     "name": "stdout",
     "output_type": "stream",
     "text": [
      "0.82321510801\n",
      "0.3618550735\n",
      "0.476227577894\n"
     ]
    }
   ],
   "source": [
    "clf2 = LogisticRegression(class_weight='balanced')\n",
    "\n",
    "precision2 = np.mean(cross_val_score(clf2, x_train_over_sample, y_train_over_sample, cv=10, scoring='precision'))\n",
    "recall2 = np.mean(cross_val_score(clf2, x_train_over_sample, y_train_over_sample, cv=10, scoring='recall'))\n",
    "F12 = np.mean(cross_val_score(clf2, x_train_over_sample, y_train_over_sample, cv=10, scoring='f1'))\n",
    "\n",
    "print precision2\n",
    "print recall2\n",
    "print F12"
   ]
  },
  {
   "cell_type": "code",
   "execution_count": 128,
   "metadata": {
    "collapsed": true
   },
   "outputs": [],
   "source": [
    "# 测试\n",
    "clf2.fit(x_train_over_sample, y_train_over_sample)\n",
    "y_pred = clf2.predict(x_test)"
   ]
  },
  {
   "cell_type": "code",
   "execution_count": 129,
   "metadata": {},
   "outputs": [
    {
     "name": "stdout",
     "output_type": "stream",
     "text": [
      "0.051895931359\n",
      "0.341796875\n",
      "0.0901101918918\n"
     ]
    }
   ],
   "source": [
    "print metrics.precision_score(y_test, y_pred)\n",
    "print metrics.recall_score(y_test, y_pred)\n",
    "print metrics.f1_score(y_test, y_pred)"
   ]
  },
  {
   "cell_type": "code",
   "execution_count": 130,
   "metadata": {},
   "outputs": [
    {
     "name": "stderr",
     "output_type": "stream",
     "text": [
      "D:\\Anaconda2\\lib\\site-packages\\ipykernel_launcher.py:2: SettingWithCopyWarning: \n",
      "A value is trying to be set on a copy of a slice from a DataFrame.\n",
      "Try using .loc[row_indexer,col_indexer] = value instead\n",
      "\n",
      "See the caveats in the documentation: http://pandas.pydata.org/pandas-docs/stable/indexing.html#indexing-view-versus-copy\n",
      "  \n"
     ]
    },
    {
     "data": {
      "text/html": [
       "<div>\n",
       "<style>\n",
       "    .dataframe thead tr:only-child th {\n",
       "        text-align: right;\n",
       "    }\n",
       "\n",
       "    .dataframe thead th {\n",
       "        text-align: left;\n",
       "    }\n",
       "\n",
       "    .dataframe tbody tr th {\n",
       "        vertical-align: top;\n",
       "    }\n",
       "</style>\n",
       "<table border=\"1\" class=\"dataframe\">\n",
       "  <thead>\n",
       "    <tr style=\"text-align: right;\">\n",
       "      <th></th>\n",
       "      <th>user_id</th>\n",
       "      <th>item_id</th>\n",
       "    </tr>\n",
       "  </thead>\n",
       "  <tbody>\n",
       "    <tr>\n",
       "      <th>591227</th>\n",
       "      <td>37101</td>\n",
       "      <td>79406933</td>\n",
       "    </tr>\n",
       "    <tr>\n",
       "      <th>591231</th>\n",
       "      <td>37101</td>\n",
       "      <td>148154020</td>\n",
       "    </tr>\n",
       "    <tr>\n",
       "      <th>591232</th>\n",
       "      <td>37101</td>\n",
       "      <td>168955945</td>\n",
       "    </tr>\n",
       "    <tr>\n",
       "      <th>591233</th>\n",
       "      <td>37101</td>\n",
       "      <td>220543169</td>\n",
       "    </tr>\n",
       "    <tr>\n",
       "      <th>591235</th>\n",
       "      <td>37101</td>\n",
       "      <td>342106807</td>\n",
       "    </tr>\n",
       "  </tbody>\n",
       "</table>\n",
       "</div>"
      ],
      "text/plain": [
       "        user_id    item_id\n",
       "591227    37101   79406933\n",
       "591231    37101  148154020\n",
       "591232    37101  168955945\n",
       "591233    37101  220543169\n",
       "591235    37101  342106807"
      ]
     },
     "execution_count": 130,
     "metadata": {},
     "output_type": "execute_result"
    }
   ],
   "source": [
    "# 预测\n",
    "predict = clf2.predict(x_pred)\n",
    "pred_features['label'] = predict\n",
    "submission = pred_features[pred_features['label']==1][['user_id', 'item_id']]\n",
    "submission.head()"
   ]
  },
  {
   "cell_type": "code",
   "execution_count": 131,
   "metadata": {
    "collapsed": true
   },
   "outputs": [],
   "source": [
    "submission.to_csv('LogisticRegression_over_sample.csv', index=False)"
   ]
  },
  {
   "cell_type": "markdown",
   "metadata": {},
   "source": [
    "## naive_bayes"
   ]
  },
  {
   "cell_type": "code",
   "execution_count": 47,
   "metadata": {
    "collapsed": true
   },
   "outputs": [],
   "source": [
    "from sklearn.naive_bayes import GaussianNB"
   ]
  },
  {
   "cell_type": "code",
   "execution_count": 50,
   "metadata": {},
   "outputs": [
    {
     "name": "stderr",
     "output_type": "stream",
     "text": [
      "D:\\Anaconda2\\lib\\site-packages\\sklearn\\metrics\\classification.py:1135: UndefinedMetricWarning: Precision is ill-defined and being set to 0.0 due to no predicted samples.\n",
      "  'precision', 'predicted', average, warn_for)\n",
      "D:\\Anaconda2\\lib\\site-packages\\sklearn\\metrics\\classification.py:1135: UndefinedMetricWarning: F-score is ill-defined and being set to 0.0 due to no predicted samples.\n",
      "  'precision', 'predicted', average, warn_for)\n"
     ]
    },
    {
     "name": "stdout",
     "output_type": "stream",
     "text": [
      "0.212553726652\n",
      "0.239793281654\n",
      "0.149792113918\n"
     ]
    }
   ],
   "source": [
    "clf = GaussianNB()\n",
    "\n",
    "precision = np.mean(cross_val_score(clf, x_train, y_train, cv=10, scoring='precision'))\n",
    "recall = np.mean(cross_val_score(clf, x_train, y_train, cv=10, scoring='recall'))\n",
    "F1 = np.mean(cross_val_score(clf, x_train, y_train, cv=10, scoring='f1'))\n",
    "\n",
    "print precision\n",
    "print recall\n",
    "print F1"
   ]
  },
  {
   "cell_type": "code",
   "execution_count": 51,
   "metadata": {
    "collapsed": true
   },
   "outputs": [],
   "source": [
    "clf.fit(x_train, y_train)\n",
    "y_pred = clf.predict(x_test)"
   ]
  },
  {
   "cell_type": "code",
   "execution_count": 54,
   "metadata": {},
   "outputs": [
    {
     "name": "stdout",
     "output_type": "stream",
     "text": [
      "0.0643982808023\n",
      "0.234114583333\n",
      "0.101011235955\n"
     ]
    }
   ],
   "source": [
    "print metrics.precision_score(y_test, y_pred)\n",
    "print metrics.recall_score(y_test, y_pred)\n",
    "print metrics.f1_score(y_test, y_pred)"
   ]
  },
  {
   "cell_type": "code",
   "execution_count": 55,
   "metadata": {},
   "outputs": [
    {
     "name": "stderr",
     "output_type": "stream",
     "text": [
      "D:\\Anaconda2\\lib\\site-packages\\ipykernel_launcher.py:2: SettingWithCopyWarning: \n",
      "A value is trying to be set on a copy of a slice from a DataFrame.\n",
      "Try using .loc[row_indexer,col_indexer] = value instead\n",
      "\n",
      "See the caveats in the documentation: http://pandas.pydata.org/pandas-docs/stable/indexing.html#indexing-view-versus-copy\n",
      "  \n"
     ]
    },
    {
     "data": {
      "text/html": [
       "<div>\n",
       "<style>\n",
       "    .dataframe thead tr:only-child th {\n",
       "        text-align: right;\n",
       "    }\n",
       "\n",
       "    .dataframe thead th {\n",
       "        text-align: left;\n",
       "    }\n",
       "\n",
       "    .dataframe tbody tr th {\n",
       "        vertical-align: top;\n",
       "    }\n",
       "</style>\n",
       "<table border=\"1\" class=\"dataframe\">\n",
       "  <thead>\n",
       "    <tr style=\"text-align: right;\">\n",
       "      <th></th>\n",
       "      <th>user_id</th>\n",
       "      <th>item_id</th>\n",
       "    </tr>\n",
       "  </thead>\n",
       "  <tbody>\n",
       "    <tr>\n",
       "      <th>591239</th>\n",
       "      <td>45561</td>\n",
       "      <td>19915605</td>\n",
       "    </tr>\n",
       "    <tr>\n",
       "      <th>591241</th>\n",
       "      <td>45561</td>\n",
       "      <td>60919394</td>\n",
       "    </tr>\n",
       "    <tr>\n",
       "      <th>591242</th>\n",
       "      <td>45561</td>\n",
       "      <td>79897846</td>\n",
       "    </tr>\n",
       "    <tr>\n",
       "      <th>591243</th>\n",
       "      <td>45561</td>\n",
       "      <td>85523708</td>\n",
       "    </tr>\n",
       "    <tr>\n",
       "      <th>591245</th>\n",
       "      <td>45561</td>\n",
       "      <td>105540923</td>\n",
       "    </tr>\n",
       "  </tbody>\n",
       "</table>\n",
       "</div>"
      ],
      "text/plain": [
       "        user_id    item_id\n",
       "591239    45561   19915605\n",
       "591241    45561   60919394\n",
       "591242    45561   79897846\n",
       "591243    45561   85523708\n",
       "591245    45561  105540923"
      ]
     },
     "execution_count": 55,
     "metadata": {},
     "output_type": "execute_result"
    }
   ],
   "source": [
    "predict = clf.predict(x_pred)\n",
    "pred_features['label'] = predict\n",
    "submission = pred_features[pred_features['label']==1][['user_id', 'item_id']]\n",
    "submission = submission.drop_duplicates()\n",
    "submission.head()"
   ]
  },
  {
   "cell_type": "code",
   "execution_count": null,
   "metadata": {
    "collapsed": true
   },
   "outputs": [],
   "source": []
  },
  {
   "cell_type": "code",
   "execution_count": 139,
   "metadata": {
    "collapsed": true
   },
   "outputs": [],
   "source": [
    "submission.to_csv('bayes.csv', index=False)"
   ]
  },
  {
   "cell_type": "markdown",
   "metadata": {},
   "source": [
    "使用过采样的数据进行建模测试"
   ]
  },
  {
   "cell_type": "code",
   "execution_count": 140,
   "metadata": {},
   "outputs": [
    {
     "name": "stdout",
     "output_type": "stream",
     "text": [
      "0.843605748415\n",
      "0.268939556948\n",
      "0.398093531968\n"
     ]
    }
   ],
   "source": [
    "clf2 = GaussianNB()\n",
    "\n",
    "precision2 = np.mean(cross_val_score(clf2, x_train_over_sample, y_train_over_sample, cv=10, scoring='precision'))\n",
    "recall2 = np.mean(cross_val_score(clf2, x_train_over_sample, y_train_over_sample, cv=10, scoring='recall'))\n",
    "F12 = np.mean(cross_val_score(clf2, x_train_over_sample, y_train_over_sample, cv=10, scoring='f1'))\n",
    "\n",
    "print precision2\n",
    "print recall2\n",
    "print F12"
   ]
  },
  {
   "cell_type": "code",
   "execution_count": 142,
   "metadata": {
    "collapsed": true
   },
   "outputs": [],
   "source": [
    "# 测试\n",
    "clf2.fit(x_train_over_sample, y_train_over_sample)\n",
    "y_pred = clf2.predict(x_test)"
   ]
  },
  {
   "cell_type": "code",
   "execution_count": 143,
   "metadata": {},
   "outputs": [
    {
     "name": "stdout",
     "output_type": "stream",
     "text": [
      "0.0629010716961\n",
      "0.251432291667\n",
      "0.100627947575\n"
     ]
    }
   ],
   "source": [
    "print metrics.precision_score(y_test, y_pred)\n",
    "print metrics.recall_score(y_test, y_pred)\n",
    "print metrics.f1_score(y_test, y_pred)"
   ]
  },
  {
   "cell_type": "code",
   "execution_count": 147,
   "metadata": {},
   "outputs": [
    {
     "name": "stderr",
     "output_type": "stream",
     "text": [
      "D:\\Anaconda2\\lib\\site-packages\\ipykernel_launcher.py:3: SettingWithCopyWarning: \n",
      "A value is trying to be set on a copy of a slice from a DataFrame.\n",
      "Try using .loc[row_indexer,col_indexer] = value instead\n",
      "\n",
      "See the caveats in the documentation: http://pandas.pydata.org/pandas-docs/stable/indexing.html#indexing-view-versus-copy\n",
      "  This is separate from the ipykernel package so we can avoid doing imports until\n"
     ]
    },
    {
     "data": {
      "text/html": [
       "<div>\n",
       "<style>\n",
       "    .dataframe thead tr:only-child th {\n",
       "        text-align: right;\n",
       "    }\n",
       "\n",
       "    .dataframe thead th {\n",
       "        text-align: left;\n",
       "    }\n",
       "\n",
       "    .dataframe tbody tr th {\n",
       "        vertical-align: top;\n",
       "    }\n",
       "</style>\n",
       "<table border=\"1\" class=\"dataframe\">\n",
       "  <thead>\n",
       "    <tr style=\"text-align: right;\">\n",
       "      <th></th>\n",
       "      <th>user_id</th>\n",
       "      <th>item_id</th>\n",
       "    </tr>\n",
       "  </thead>\n",
       "  <tbody>\n",
       "    <tr>\n",
       "      <th>591233</th>\n",
       "      <td>37101</td>\n",
       "      <td>220543169</td>\n",
       "    </tr>\n",
       "    <tr>\n",
       "      <th>591239</th>\n",
       "      <td>45561</td>\n",
       "      <td>19915605</td>\n",
       "    </tr>\n",
       "    <tr>\n",
       "      <th>591241</th>\n",
       "      <td>45561</td>\n",
       "      <td>60919394</td>\n",
       "    </tr>\n",
       "    <tr>\n",
       "      <th>591242</th>\n",
       "      <td>45561</td>\n",
       "      <td>79897846</td>\n",
       "    </tr>\n",
       "    <tr>\n",
       "      <th>591243</th>\n",
       "      <td>45561</td>\n",
       "      <td>85523708</td>\n",
       "    </tr>\n",
       "  </tbody>\n",
       "</table>\n",
       "</div>"
      ],
      "text/plain": [
       "        user_id    item_id\n",
       "591233    37101  220543169\n",
       "591239    45561   19915605\n",
       "591241    45561   60919394\n",
       "591242    45561   79897846\n",
       "591243    45561   85523708"
      ]
     },
     "execution_count": 147,
     "metadata": {},
     "output_type": "execute_result"
    }
   ],
   "source": [
    "# 预测\n",
    "predict = clf2.predict(x_pred)\n",
    "pred_features['label'] = predict\n",
    "submission = pred_features[pred_features['label']==1][['user_id', 'item_id']]\n",
    "submission.head()"
   ]
  },
  {
   "cell_type": "code",
   "execution_count": 148,
   "metadata": {
    "collapsed": true
   },
   "outputs": [],
   "source": [
    "submission.to_csv('bayes_over_sample.csv', index=False)"
   ]
  },
  {
   "cell_type": "markdown",
   "metadata": {},
   "source": [
    "## AdaBoost"
   ]
  },
  {
   "cell_type": "code",
   "execution_count": 149,
   "metadata": {
    "collapsed": true
   },
   "outputs": [],
   "source": [
    "from sklearn.ensemble import AdaBoostClassifier"
   ]
  },
  {
   "cell_type": "code",
   "execution_count": 151,
   "metadata": {},
   "outputs": [
    {
     "name": "stdout",
     "output_type": "stream",
     "text": [
      "0.0144252385696\n",
      "0.420671834625\n",
      "0.0196016596134\n"
     ]
    }
   ],
   "source": [
    "base= GaussianNB()\n",
    "clf = AdaBoostClassifier(n_estimators=100, base_estimator=base)\n",
    "\n",
    "precision = np.mean(cross_val_score(clf, x_train, y_train, cv=10, scoring='precision'))\n",
    "recall= np.mean(cross_val_score(clf, x_train, y_train, cv=10, scoring='recall'))\n",
    "F1 = np.mean(cross_val_score(clf, x_train, y_train, cv=10, scoring='f1'))\n",
    "\n",
    "print precision\n",
    "print recall\n",
    "print F1"
   ]
  },
  {
   "cell_type": "code",
   "execution_count": 153,
   "metadata": {
    "collapsed": true
   },
   "outputs": [],
   "source": [
    "# 测试\n",
    "clf.fit(x_train, y_train)\n",
    "y_pred = clf.predict(x_test)"
   ]
  },
  {
   "cell_type": "code",
   "execution_count": 154,
   "metadata": {},
   "outputs": [
    {
     "name": "stdout",
     "output_type": "stream",
     "text": [
      "0.0209154089238\n",
      "0.908333333333\n",
      "0.040889295281\n"
     ]
    }
   ],
   "source": [
    "print metrics.precision_score(y_test, y_pred)\n",
    "print metrics.recall_score(y_test, y_pred)\n",
    "print metrics.f1_score(y_test, y_pred)"
   ]
  },
  {
   "cell_type": "code",
   "execution_count": 155,
   "metadata": {},
   "outputs": [
    {
     "name": "stderr",
     "output_type": "stream",
     "text": [
      "D:\\Anaconda2\\lib\\site-packages\\ipykernel_launcher.py:3: SettingWithCopyWarning: \n",
      "A value is trying to be set on a copy of a slice from a DataFrame.\n",
      "Try using .loc[row_indexer,col_indexer] = value instead\n",
      "\n",
      "See the caveats in the documentation: http://pandas.pydata.org/pandas-docs/stable/indexing.html#indexing-view-versus-copy\n",
      "  This is separate from the ipykernel package so we can avoid doing imports until\n"
     ]
    },
    {
     "data": {
      "text/html": [
       "<div>\n",
       "<style>\n",
       "    .dataframe thead tr:only-child th {\n",
       "        text-align: right;\n",
       "    }\n",
       "\n",
       "    .dataframe thead th {\n",
       "        text-align: left;\n",
       "    }\n",
       "\n",
       "    .dataframe tbody tr th {\n",
       "        vertical-align: top;\n",
       "    }\n",
       "</style>\n",
       "<table border=\"1\" class=\"dataframe\">\n",
       "  <thead>\n",
       "    <tr style=\"text-align: right;\">\n",
       "      <th></th>\n",
       "      <th>user_id</th>\n",
       "      <th>item_id</th>\n",
       "    </tr>\n",
       "  </thead>\n",
       "  <tbody>\n",
       "    <tr>\n",
       "      <th>591225</th>\n",
       "      <td>37101</td>\n",
       "      <td>20422603</td>\n",
       "    </tr>\n",
       "    <tr>\n",
       "      <th>591226</th>\n",
       "      <td>37101</td>\n",
       "      <td>58073746</td>\n",
       "    </tr>\n",
       "    <tr>\n",
       "      <th>591227</th>\n",
       "      <td>37101</td>\n",
       "      <td>79406933</td>\n",
       "    </tr>\n",
       "    <tr>\n",
       "      <th>591228</th>\n",
       "      <td>37101</td>\n",
       "      <td>92536577</td>\n",
       "    </tr>\n",
       "    <tr>\n",
       "      <th>591229</th>\n",
       "      <td>37101</td>\n",
       "      <td>111409691</td>\n",
       "    </tr>\n",
       "  </tbody>\n",
       "</table>\n",
       "</div>"
      ],
      "text/plain": [
       "        user_id    item_id\n",
       "591225    37101   20422603\n",
       "591226    37101   58073746\n",
       "591227    37101   79406933\n",
       "591228    37101   92536577\n",
       "591229    37101  111409691"
      ]
     },
     "execution_count": 155,
     "metadata": {},
     "output_type": "execute_result"
    }
   ],
   "source": [
    "# 预测\n",
    "predict = clf.predict(x_pred)\n",
    "pred_features['label'] = predict\n",
    "submission = pred_features[pred_features['label']==1][['user_id', 'item_id']]\n",
    "submission.head()"
   ]
  },
  {
   "cell_type": "code",
   "execution_count": 156,
   "metadata": {
    "collapsed": true
   },
   "outputs": [],
   "source": [
    "submission.to_csv('AdaBoost.csv', index=False)"
   ]
  },
  {
   "cell_type": "markdown",
   "metadata": {},
   "source": [
    "用下采样的数据"
   ]
  },
  {
   "cell_type": "code",
   "execution_count": 157,
   "metadata": {},
   "outputs": [
    {
     "name": "stdout",
     "output_type": "stream",
     "text": [
      "0.717912468196\n",
      "0.456334046342\n",
      "0.381188039923\n"
     ]
    }
   ],
   "source": [
    "clf2 = AdaBoostClassifier(n_estimators=100, base_estimator=base)\n",
    "\n",
    "precision2 = np.mean(cross_val_score(clf2, x_train_over_sample, y_train_over_sample, cv=10, scoring='precision'))\n",
    "recall2 = np.mean(cross_val_score(clf2, x_train_over_sample, y_train_over_sample, cv=10, scoring='recall'))\n",
    "F12 = np.mean(cross_val_score(clf2, x_train_over_sample, y_train_over_sample, cv=10, scoring='f1'))\n",
    "\n",
    "print precision2\n",
    "print recall2\n",
    "print F12"
   ]
  },
  {
   "cell_type": "code",
   "execution_count": 158,
   "metadata": {
    "collapsed": true
   },
   "outputs": [],
   "source": [
    "# 测试\n",
    "clf2.fit(x_train_over_sample, y_train_over_sample)\n",
    "y_pred = clf2.predict(x_test)"
   ]
  },
  {
   "cell_type": "code",
   "execution_count": 160,
   "metadata": {},
   "outputs": [
    {
     "name": "stdout",
     "output_type": "stream",
     "text": [
      "0.0220493773214\n",
      "0.985546875\n",
      "0.0431337350942\n"
     ]
    }
   ],
   "source": [
    "print metrics.precision_score(y_test, y_pred)\n",
    "print metrics.recall_score(y_test, y_pred)\n",
    "print metrics.f1_score(y_test, y_pred)"
   ]
  },
  {
   "cell_type": "code",
   "execution_count": 161,
   "metadata": {},
   "outputs": [
    {
     "name": "stderr",
     "output_type": "stream",
     "text": [
      "D:\\Anaconda2\\lib\\site-packages\\ipykernel_launcher.py:3: SettingWithCopyWarning: \n",
      "A value is trying to be set on a copy of a slice from a DataFrame.\n",
      "Try using .loc[row_indexer,col_indexer] = value instead\n",
      "\n",
      "See the caveats in the documentation: http://pandas.pydata.org/pandas-docs/stable/indexing.html#indexing-view-versus-copy\n",
      "  This is separate from the ipykernel package so we can avoid doing imports until\n"
     ]
    },
    {
     "data": {
      "text/html": [
       "<div>\n",
       "<style>\n",
       "    .dataframe thead tr:only-child th {\n",
       "        text-align: right;\n",
       "    }\n",
       "\n",
       "    .dataframe thead th {\n",
       "        text-align: left;\n",
       "    }\n",
       "\n",
       "    .dataframe tbody tr th {\n",
       "        vertical-align: top;\n",
       "    }\n",
       "</style>\n",
       "<table border=\"1\" class=\"dataframe\">\n",
       "  <thead>\n",
       "    <tr style=\"text-align: right;\">\n",
       "      <th></th>\n",
       "      <th>user_id</th>\n",
       "      <th>item_id</th>\n",
       "    </tr>\n",
       "  </thead>\n",
       "  <tbody>\n",
       "    <tr>\n",
       "      <th>591225</th>\n",
       "      <td>37101</td>\n",
       "      <td>20422603</td>\n",
       "    </tr>\n",
       "    <tr>\n",
       "      <th>591226</th>\n",
       "      <td>37101</td>\n",
       "      <td>58073746</td>\n",
       "    </tr>\n",
       "    <tr>\n",
       "      <th>591227</th>\n",
       "      <td>37101</td>\n",
       "      <td>79406933</td>\n",
       "    </tr>\n",
       "    <tr>\n",
       "      <th>591228</th>\n",
       "      <td>37101</td>\n",
       "      <td>92536577</td>\n",
       "    </tr>\n",
       "    <tr>\n",
       "      <th>591229</th>\n",
       "      <td>37101</td>\n",
       "      <td>111409691</td>\n",
       "    </tr>\n",
       "  </tbody>\n",
       "</table>\n",
       "</div>"
      ],
      "text/plain": [
       "        user_id    item_id\n",
       "591225    37101   20422603\n",
       "591226    37101   58073746\n",
       "591227    37101   79406933\n",
       "591228    37101   92536577\n",
       "591229    37101  111409691"
      ]
     },
     "execution_count": 161,
     "metadata": {},
     "output_type": "execute_result"
    }
   ],
   "source": [
    "# 预测\n",
    "predict = clf2.predict(x_pred)\n",
    "pred_features['label'] = predict\n",
    "submission = pred_features[pred_features['label']==1][['user_id', 'item_id']]\n",
    "submission.head()"
   ]
  },
  {
   "cell_type": "code",
   "execution_count": 162,
   "metadata": {
    "collapsed": true
   },
   "outputs": [],
   "source": [
    "submission.to_csv('AdaBoost_over_sample.csv', index=False)"
   ]
  },
  {
   "cell_type": "markdown",
   "metadata": {},
   "source": [
    "## Bagging"
   ]
  },
  {
   "cell_type": "code",
   "execution_count": 182,
   "metadata": {
    "collapsed": true
   },
   "outputs": [],
   "source": [
    "from sklearn.ensemble import BaggingClassifier"
   ]
  },
  {
   "cell_type": "code",
   "execution_count": 169,
   "metadata": {},
   "outputs": [
    {
     "name": "stdout",
     "output_type": "stream",
     "text": [
      "0.215843137255\n",
      "0.00116279069767\n",
      "0.00224150609013\n"
     ]
    }
   ],
   "source": [
    "clf = BaggingClassifier(base_estimator=LogisticRegression(), n_estimators=100)\n",
    "\n",
    "precision = np.mean(cross_val_score(clf, x_train, y_train, cv=10, scoring='precision'))\n",
    "recall = np.mean(cross_val_score(clf, x_train, y_train, cv=10, scoring='recall'))\n",
    "F1 = np.mean(cross_val_score(clf, x_train, y_train, cv=10, scoring='f1'))\n",
    "\n",
    "print precision\n",
    "print recall\n",
    "print F1"
   ]
  },
  {
   "cell_type": "code",
   "execution_count": 170,
   "metadata": {
    "collapsed": true
   },
   "outputs": [],
   "source": [
    "# 测试\n",
    "clf.fit(x_train, y_train)\n",
    "y_pred = clf.predict(x_test)"
   ]
  },
  {
   "cell_type": "code",
   "execution_count": 171,
   "metadata": {},
   "outputs": [
    {
     "name": "stdout",
     "output_type": "stream",
     "text": [
      "0.166666666667\n",
      "0.000390625\n",
      "0.000779423226812\n"
     ]
    }
   ],
   "source": [
    "print metrics.precision_score(y_test, y_pred)\n",
    "print metrics.recall_score(y_test, y_pred)\n",
    "print metrics.f1_score(y_test, y_pred)"
   ]
  },
  {
   "cell_type": "code",
   "execution_count": null,
   "metadata": {
    "collapsed": true
   },
   "outputs": [],
   "source": []
  }
 ],
 "metadata": {
  "kernelspec": {
   "display_name": "Python 2",
   "language": "python",
   "name": "python2"
  },
  "language_info": {
   "codemirror_mode": {
    "name": "ipython",
    "version": 2
   },
   "file_extension": ".py",
   "mimetype": "text/x-python",
   "name": "python",
   "nbconvert_exporter": "python",
   "pygments_lexer": "ipython2",
   "version": "2.7.14"
  }
 },
 "nbformat": 4,
 "nbformat_minor": 2
}
